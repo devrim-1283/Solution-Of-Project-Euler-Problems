{
 "cells": [
  {
   "cell_type": "markdown",
   "metadata": {},
   "source": [
    "# PROBLEM 32\n",
    "We shall say that an nn-digit number is pandigital if it makes use of all the digits 1 to nn exactly once; for example, the 9-digit number 123456789 is 1 to 9 pandigital.\n",
    "\n",
    "A product is called pandigital if the concatenated string of the multiplicand, multiplier, and product contains all the digits 1 to 9 exactly once.\n",
    "\n",
    "For example, 39×186=725439×186=7254 is a pandigital product, as the concatenated string \"391867254\" is 1 to 9 pandigital.\n",
    "\n",
    "Find the sum of all products whose multiplicand/multiplier/product identity can be written as a 1 through 9 pandigital.\n",
    "\n",
    "Note: Each product is only to be included once in the sum."
   ]
  },
  {
   "cell_type": "code",
   "execution_count": 13,
   "metadata": {},
   "outputs": [
    {
     "name": "stdout",
     "output_type": "stream",
     "text": [
      "45228\n"
     ]
    }
   ],
   "source": [
    "def permute(elements, current):\n",
    "    if len(elements) == 0: \n",
    "        return [current] \n",
    "    else:\n",
    "        result = []\n",
    "        for i in range(len(elements)):\n",
    "            remaining = elements[:i] + elements[i+1:]\n",
    "            new_current = current + elements[i]\n",
    "            result.extend(permute(remaining, new_current))\n",
    "        return result\n",
    "list_pandigital=permute([\"1\",\"2\",\"3\",\"4\",\"5\",\"6\",\"7\",\"8\",\"9\"],\"\")\n",
    "\n",
    "\n",
    "sum_set=set()\n",
    "\n",
    "list_index=[(2,3,4),(3,2,4),(1,4,4),(4,1,4)]\n",
    "for number in list_pandigital:\n",
    "    for i,j,k in list_index:\n",
    "        number_1=number[:i]\n",
    "        number_2=number[i:i+j]\n",
    "        number_3=number[i+j:]\n",
    "        if int(number_1)*int(number_2)==int(number_3):\n",
    "            sum_set.add(int(number_3))\n",
    "\n",
    "sum=0\n",
    "for i in sum_set:\n",
    "    sum+=i\n",
    "print(sum)\n"
   ]
  }
 ],
 "metadata": {
  "kernelspec": {
   "display_name": "Python 3",
   "language": "python",
   "name": "python3"
  },
  "language_info": {
   "codemirror_mode": {
    "name": "ipython",
    "version": 3
   },
   "file_extension": ".py",
   "mimetype": "text/x-python",
   "name": "python",
   "nbconvert_exporter": "python",
   "pygments_lexer": "ipython3",
   "version": "3.12.7"
  }
 },
 "nbformat": 4,
 "nbformat_minor": 2
}

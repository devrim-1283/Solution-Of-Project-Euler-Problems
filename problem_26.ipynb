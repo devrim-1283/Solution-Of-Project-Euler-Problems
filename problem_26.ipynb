{
 "cells": [
  {
   "cell_type": "code",
   "execution_count": 24,
   "metadata": {},
   "outputs": [
    {
     "name": "stdout",
     "output_type": "stream",
     "text": [
      "983\n"
     ]
    }
   ],
   "source": [
    "def repeating_decimal_expansion_lenght(number):\n",
    "    divided=1\n",
    "    while True:\n",
    "        if divided>number:\n",
    "            break\n",
    "        else:\n",
    "            divided*=10\n",
    "    def new_divided(last_mod):\n",
    "  \n",
    "        while True:\n",
    "            if last_mod==0:\n",
    "                break\n",
    "            elif last_mod>number:\n",
    "                break\n",
    "            else:\n",
    "                last_mod*=10\n",
    "        return last_mod\n",
    "    \n",
    "    mod_list=list()\n",
    "    while True:\n",
    "        mod_list.append(divided%number)\n",
    "        divided=new_divided(divided%number)\n",
    "        result=0\n",
    "        if divided==0:\n",
    "            result=-1\n",
    "        else:\n",
    "            if mod_list.count(divided%number)==2:\n",
    "                first_mod=mod_list.index(divided%number)\n",
    "                second_mod=mod_list[::-1].index(divided%number)\n",
    "                result=abs(first_mod-second_mod)+1\n",
    "        if result==-1:\n",
    "            return 0\n",
    "        elif result!=0:\n",
    "            return result\n",
    "            \n",
    "\n",
    "dict_1=dict()\n",
    "for number in range(1,1000):\n",
    "    dict_1[number]=repeating_decimal_expansion_lenght(number)\n",
    "list_1=list()\n",
    "for i in dict_1.values():\n",
    "    list_1.append(i)\n",
    "list_1.sort()\n",
    "for i in dict_1:\n",
    "    if dict_1[i]==list_1[-1]:\n",
    "        print(i)\n",
    "        "
   ]
  }
 ],
 "metadata": {
  "kernelspec": {
   "display_name": "Python 3",
   "language": "python",
   "name": "python3"
  },
  "language_info": {
   "codemirror_mode": {
    "name": "ipython",
    "version": 3
   },
   "file_extension": ".py",
   "mimetype": "text/x-python",
   "name": "python",
   "nbconvert_exporter": "python",
   "pygments_lexer": "ipython3",
   "version": "3.12.7"
  }
 },
 "nbformat": 4,
 "nbformat_minor": 2
}

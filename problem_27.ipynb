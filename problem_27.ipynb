{
 "cells": [
  {
   "cell_type": "markdown",
   "metadata": {},
   "source": [
    "# PROBLEM 27\n",
    "Euler discovered the remarkable quadratic formula:\n",
    "n2+n+41\n",
    "n2+n+41\n",
    "\n",
    "It turns out that the formula will produce 40 primes for the consecutive integer values 0≤n≤390≤n≤39. However, when n=40n=40:\n",
    "402+40+41=40(40+1)+41\n",
    "402+40+41=40(40+1)+41\n",
    "\n",
    "is divisible by 41, and certainly when n=41n=41, 412+41+41412+41+41 is clearly divisible by 41.\n",
    "\n",
    "The incredible formula n2−79n+1601n2−79n+1601 was discovered, which produces 80 primes for the consecutive values 0≤n≤790≤n≤79. The product of the coefficients, −79−79 and 16011601, is −126479−126479.\n",
    "\n",
    "Considering quadratics of the form:\n",
    "n2+an+b,where ∣a∣<1000 and ∣b∣≤1000,\n",
    "n2+an+b,where ∣a∣<1000 and ∣b∣≤1000,\n",
    "\n",
    "where ∣n∣∣n∣ is the modulus/absolute value of nn\n",
    "e.g. ∣11∣=11 and ∣−4∣=4∣11∣=11 and ∣−4∣=4,\n",
    "\n",
    "Find the product of the coefficients, aa and bb, for the quadratic expression that produces the maximum number of primes for consecutive values of nn, starting with n=0n=0."
   ]
  },
  {
   "cell_type": "code",
   "execution_count": 3,
   "metadata": {},
   "outputs": [
    {
     "name": "stdout",
     "output_type": "stream",
     "text": [
      "-59231\n"
     ]
    }
   ],
   "source": [
    "def prime(a):\n",
    "    if a==2:\n",
    "        return True\n",
    "    elif a<2:\n",
    "        return False\n",
    "    else:\n",
    "        for i in range(2,int(a**0.5)+1):\n",
    "            if a%i==0:\n",
    "                return False\n",
    "        return True\n",
    "\n",
    "\n",
    "list_of_number=list(range(-1000,1001))\n",
    "\n",
    "\n",
    "dict_1=dict()\n",
    "list_1=list()\n",
    "for i in list_of_number:\n",
    "    for j in list_of_number:\n",
    "        n=0\n",
    "        sum_n=0\n",
    "        while True:\n",
    "            n+=1\n",
    "            if prime(n**2+i*n+j):\n",
    "                sum_n+=1\n",
    "            else:\n",
    "                break\n",
    "        list_1.append(sum_n)\n",
    "        dict_1[sum_n]=(i*j)\n",
    "list_1.sort()\n",
    "print(dict_1[list_1[-1]])\n",
    "\n",
    "        \n"
   ]
  }
 ],
 "metadata": {
  "kernelspec": {
   "display_name": "Python 3",
   "language": "python",
   "name": "python3"
  },
  "language_info": {
   "codemirror_mode": {
    "name": "ipython",
    "version": 3
   },
   "file_extension": ".py",
   "mimetype": "text/x-python",
   "name": "python",
   "nbconvert_exporter": "python",
   "pygments_lexer": "ipython3",
   "version": "3.12.7"
  }
 },
 "nbformat": 4,
 "nbformat_minor": 2
}

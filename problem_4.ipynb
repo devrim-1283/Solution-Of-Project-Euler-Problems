{
 "cells": [
  {
   "cell_type": "markdown",
   "metadata": {},
   "source": [
    "# Problem 4\n",
    "A palindromic number reads the same both ways. The largest palindrome made from the product of two 2-digit numbers is 9009=91 × 99.\n",
    "\n",
    "Find the largest palindrome made from the product of two 3-digit numbers."
   ]
  },
  {
   "cell_type": "code",
   "execution_count": 1,
   "metadata": {},
   "outputs": [
    {
     "data": {
      "text/plain": [
       "906609"
      ]
     },
     "execution_count": 1,
     "metadata": {},
     "output_type": "execute_result"
    }
   ],
   "source": [
    "def polindromic():\n",
    "    def is_it_polindromic(value):\n",
    "        value=str(value)\n",
    "        reverse_value=value[::-1]\n",
    "        if value==reverse_value:\n",
    "            return True\n",
    "        else:\n",
    "            return False\n",
    "    polindromic_list=list()\n",
    "    for i in range(100,999):\n",
    "        for j in range(100,999):\n",
    "            if is_it_polindromic(i*j):\n",
    "                polindromic_list.append(i*j)\n",
    "    polindromic_list.sort()\n",
    "    return polindromic_list[-1]\n",
    "\n",
    "polindromic()"
   ]
  },
  {
   "cell_type": "code",
   "execution_count": 2,
   "metadata": {},
   "outputs": [
    {
     "name": "stdout",
     "output_type": "stream",
     "text": [
      "906609\n"
     ]
    }
   ],
   "source": [
    "def is_it_polindromic(value):\n",
    "    value=str(value)\n",
    "    reverse_value=value[::-1]\n",
    "    if value==reverse_value:\n",
    "        return True\n",
    "    else:\n",
    "        return False\n",
    "polindromic_list=list()\n",
    "for i in range(100,999):\n",
    "    for j in range(100,999):\n",
    "        if is_it_polindromic(i*j):\n",
    "            polindromic_list.append(i*j)\n",
    "polindromic_list.sort()\n",
    "print(polindromic_list[-1])\n"
   ]
  },
  {
   "cell_type": "code",
   "execution_count": null,
   "metadata": {},
   "outputs": [],
   "source": []
  }
 ],
 "metadata": {
  "kernelspec": {
   "display_name": "Python 3",
   "language": "python",
   "name": "python3"
  },
  "language_info": {
   "codemirror_mode": {
    "name": "ipython",
    "version": 3
   },
   "file_extension": ".py",
   "mimetype": "text/x-python",
   "name": "python",
   "nbconvert_exporter": "python",
   "pygments_lexer": "ipython3",
   "version": "3.12.7"
  }
 },
 "nbformat": 4,
 "nbformat_minor": 2
}

{
 "cells": [
  {
   "cell_type": "markdown",
   "metadata": {},
   "source": [
    "# PROBLEM 45\n",
    "Triangle, pentagonal, and hexagonal numbers are defined as follows:\n",
    "\n",
    "It turns out that the 40755 is the first triangle number to be pentagonal and hexagonal.\n",
    "\n",
    "Find the next triangle number that is also pentagonal and hexagonal."
   ]
  },
  {
   "cell_type": "markdown",
   "metadata": {},
   "source": [
    "n=((24x+1)**0.5+1)/6"
   ]
  },
  {
   "cell_type": "code",
   "execution_count": 18,
   "metadata": {},
   "outputs": [
    {
     "name": "stdout",
     "output_type": "stream",
     "text": [
      "1533776805\n"
     ]
    }
   ],
   "source": [
    "a=2\n",
    "list_1=list()\n",
    "while True:\n",
    "    hexa=(2*a**2-a)\n",
    "    if (((24*hexa+1)**0.5+1)/6).is_integer():\n",
    "        list_1.append(hexa)\n",
    "    if len(list_1)==2:\n",
    "        print(list_1[-1])\n",
    "        break\n",
    "    \n",
    "    a+=1\n"
   ]
  }
 ],
 "metadata": {
  "kernelspec": {
   "display_name": "Python 3",
   "language": "python",
   "name": "python3"
  },
  "language_info": {
   "codemirror_mode": {
    "name": "ipython",
    "version": 3
   },
   "file_extension": ".py",
   "mimetype": "text/x-python",
   "name": "python",
   "nbconvert_exporter": "python",
   "pygments_lexer": "ipython3",
   "version": "3.12.7"
  }
 },
 "nbformat": 4,
 "nbformat_minor": 2
}

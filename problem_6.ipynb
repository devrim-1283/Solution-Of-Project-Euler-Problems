{
 "cells": [
  {
   "cell_type": "markdown",
   "metadata": {},
   "source": [
    "# PROBLEM 6\n",
    "The sum of the squares of the first ten natural numbers is,\n",
    "\n",
    "1\\**2 +2\\**2+... +10\\**2 = 385.\n",
    "\n",
    "The square of the sum of the first ten natural numbers is,\n",
    "\n",
    "(1 + 2+... +10)\\**2 = 55\\**2 = 3025.\n",
    "\n",
    "Hence the difference between the sum of the squares of the first ten natural numbers and the square of the sum is\n",
    "\n",
    "3025-385 = 2640.\n",
    "\n",
    "Find the difference between the sum of the squares of the first one hundred natural numbers and the square of the sum."
   ]
  },
  {
   "cell_type": "code",
   "execution_count": 1,
   "metadata": {},
   "outputs": [
    {
     "data": {
      "text/plain": [
       "25164150"
      ]
     },
     "execution_count": 1,
     "metadata": {},
     "output_type": "execute_result"
    }
   ],
   "source": [
    "def problem_6():\n",
    "    a=0 #sum_of_the_square_of_the_first_ten_numbers\n",
    "    for i in range(1,101):\n",
    "        a+=i**2\n",
    "    b=0 #the square of the sum\n",
    "    for i in range(1,101):\n",
    "        b+=i\n",
    "    return (b**2)-a\n",
    "\n",
    "problem_6()"
   ]
  },
  {
   "cell_type": "code",
   "execution_count": 2,
   "metadata": {},
   "outputs": [
    {
     "name": "stdout",
     "output_type": "stream",
     "text": [
      "25164150\n"
     ]
    }
   ],
   "source": [
    "a=0 #sum_of_the_square_of_the_first_ten_numbers\n",
    "for i in range(1,101):\n",
    "    a+=i**2\n",
    "b=0 #the square of the sum\n",
    "for i in range(1,101):\n",
    "    b+=i\n",
    "print(b**2-a)"
   ]
  }
 ],
 "metadata": {
  "kernelspec": {
   "display_name": "Python 3",
   "language": "python",
   "name": "python3"
  },
  "language_info": {
   "codemirror_mode": {
    "name": "ipython",
    "version": 3
   },
   "file_extension": ".py",
   "mimetype": "text/x-python",
   "name": "python",
   "nbconvert_exporter": "python",
   "pygments_lexer": "ipython3",
   "version": "3.12.7"
  }
 },
 "nbformat": 4,
 "nbformat_minor": 2
}

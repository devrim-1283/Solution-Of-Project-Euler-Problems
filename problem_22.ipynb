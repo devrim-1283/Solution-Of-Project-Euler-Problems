{
 "cells": [
  {
   "cell_type": "markdown",
   "metadata": {},
   "source": [
    "# PROBLEM 22\n",
    "Using names.txt (right-click and 'Save Link/Target As...'), a 46K text file containing over five-thousand first names, begin by sorting it into alphabetical order. Then working out the alphabetical value for each name, multiply this value by its alphabetical position in the list to obtain a name score.\n",
    "\n",
    "For example, when the list is sorted into alphabetical order, COLIN, which is worth 3+15+12+9+14=533+15+12+9+14=53, is the 938th name in the list. So, COLIN would obtain a score of 938×53=49714938×53=49714.\n",
    "\n",
    "What is the total of all the name scores in the file?"
   ]
  },
  {
   "cell_type": "code",
   "execution_count": 1,
   "metadata": {},
   "outputs": [
    {
     "name": "stdout",
     "output_type": "stream",
     "text": [
      "871198282\n"
     ]
    }
   ],
   "source": [
    "with open(\"problem_22_names.txt\",\"r+\") as file:\n",
    "    string = file.read()\n",
    "\n",
    "\n",
    "list_name=list()\n",
    "name=\"\"\n",
    "\n",
    "for i in string:\n",
    "    if i=='\"':\n",
    "        continue\n",
    "    elif i==\",\":\n",
    "        list_name.append(name)\n",
    "        name=\"\"\n",
    "    else:\n",
    "        name+=i\n",
    "\n",
    "list_name.append(name)\n",
    "\n",
    "list_name.sort()\n",
    "\n",
    "alphabet_values = {\n",
    "    'A': 1, 'B': 2, 'C': 3, 'D': 4, 'E': 5, 'F': 6, 'G': 7, \n",
    "    'H': 8, 'I': 9, 'J': 10, 'K': 11, 'L': 12, 'M': 13, \n",
    "    'N': 14, 'O': 15, 'P': 16, 'Q': 17, 'R': 18, 'S': 19, \n",
    "    'T': 20, 'U': 21, 'V': 22, 'W': 23, 'X': 24, 'Y': 25, 'Z': 26\n",
    "}\n",
    "names_scores_sum=0\n",
    "index=1\n",
    "for name in list_name:\n",
    "    name_scores=0\n",
    "    for i in name:\n",
    "        name_scores+=alphabet_values[i]\n",
    "    names_scores_sum+=name_scores*index\n",
    "    index+=1\n",
    "\n",
    "print(names_scores_sum)\n",
    "\n",
    "\n"
   ]
  }
 ],
 "metadata": {
  "kernelspec": {
   "display_name": "Python 3",
   "language": "python",
   "name": "python3"
  },
  "language_info": {
   "codemirror_mode": {
    "name": "ipython",
    "version": 3
   },
   "file_extension": ".py",
   "mimetype": "text/x-python",
   "name": "python",
   "nbconvert_exporter": "python",
   "pygments_lexer": "ipython3",
   "version": "3.12.7"
  }
 },
 "nbformat": 4,
 "nbformat_minor": 2
}

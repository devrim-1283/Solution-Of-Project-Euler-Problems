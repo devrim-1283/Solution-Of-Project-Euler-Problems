{
 "cells": [
  {
   "cell_type": "markdown",
   "metadata": {},
   "source": [
    "n çift ise n/2\n",
    "n tek ise 3n+1\n",
    "bunu yaptığımızda cevap 1 geldiğinde zinciri durduruyoruz bir milyondan az olan sayılarda zincir en çok kaç olur\n"
   ]
  },
  {
   "cell_type": "code",
   "execution_count": 1,
   "metadata": {},
   "outputs": [
    {
     "name": "stdout",
     "output_type": "stream",
     "text": [
      "837799\n"
     ]
    }
   ],
   "source": [
    "a=0\n",
    "sözlük=dict()\n",
    "while True:\n",
    "    a+=1\n",
    "    b=a\n",
    "    if a==1000000:\n",
    "        break\n",
    "    c=0\n",
    "    while True:\n",
    "        if b==1:\n",
    "            break\n",
    "        if b%2==0:\n",
    "            c+=1\n",
    "            b/=2\n",
    "        else:\n",
    "            c+=1\n",
    "            b=3*b+1\n",
    "    sözlük[c]=a\n",
    "sıralıkeyler=sorted(sözlük.keys())\n",
    "print(sözlük[sıralıkeyler[-1]])\n"
   ]
  },
  {
   "cell_type": "code",
   "execution_count": null,
   "metadata": {},
   "outputs": [],
   "source": []
  }
 ],
 "metadata": {
  "kernelspec": {
   "display_name": "Python 3",
   "language": "python",
   "name": "python3"
  },
  "language_info": {
   "codemirror_mode": {
    "name": "ipython",
    "version": 3
   },
   "file_extension": ".py",
   "mimetype": "text/x-python",
   "name": "python",
   "nbconvert_exporter": "python",
   "pygments_lexer": "ipython3",
   "version": "3.12.7"
  }
 },
 "nbformat": 4,
 "nbformat_minor": 2
}

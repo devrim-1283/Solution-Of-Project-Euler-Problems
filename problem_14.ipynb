{
 "cells": [
  {
   "cell_type": "markdown",
   "metadata": {},
   "source": [
    "# PROBLEM 14\n",
    "The following iterative sequence is defined for the set of positive integers:\n",
    "\n",
    "n→ n/2 (n is even)\n",
    "\n",
    "n→ 3n+1 (n is odd)\n",
    "\n",
    "Using the rule above and starting with 13, we generate the following sequence:\n",
    "\n",
    "13-40-20-10-5-16-8-4-2-1\n",
    "\n",
    "It can be seen that this sequence (starting at 13 and finishing at 1) contains 10 terms. Although it has not been proved yet (Collatz Problem), it is thought that all starting numbers finish at 1.\n",
    "\n",
    "Which starting number, under one million, produces the longest chain?\n",
    "\n",
    "NOTE: Once the chain starts the terms are allowed to go above one million."
   ]
  },
  {
   "cell_type": "code",
   "execution_count": 2,
   "metadata": {},
   "outputs": [
    {
     "name": "stdout",
     "output_type": "stream",
     "text": [
      "837799\n"
     ]
    }
   ],
   "source": [
    "a=0\n",
    "dict_number=dict()\n",
    "while True:\n",
    "    a+=1\n",
    "    b=a\n",
    "    if a==1000000:\n",
    "        break\n",
    "    c=0\n",
    "    while True:\n",
    "        if b==1:\n",
    "            break\n",
    "        if b%2==0:\n",
    "            c+=1\n",
    "            b/=2\n",
    "        else:\n",
    "            c+=1\n",
    "            b=3*b+1\n",
    "    dict_number[c]=a\n",
    "dict_number_keys=sorted(dict_number.keys())\n",
    "print(dict_number[dict_number_keys[-1]])\n"
   ]
  }
 ],
 "metadata": {
  "kernelspec": {
   "display_name": "Python 3",
   "language": "python",
   "name": "python3"
  },
  "language_info": {
   "codemirror_mode": {
    "name": "ipython",
    "version": 3
   },
   "file_extension": ".py",
   "mimetype": "text/x-python",
   "name": "python",
   "nbconvert_exporter": "python",
   "pygments_lexer": "ipython3",
   "version": "3.12.7"
  }
 },
 "nbformat": 4,
 "nbformat_minor": 2
}

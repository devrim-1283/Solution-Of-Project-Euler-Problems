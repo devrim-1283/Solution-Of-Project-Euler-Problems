{
 "cells": [
  {
   "cell_type": "markdown",
   "metadata": {},
   "source": [
    "# PROBLEM 46\n",
    "It was proposed by Christian Goldbach that every odd composite number can be written as the sum of a prime and twice a square.\n",
    "\n",
    "9=7+2×129=7+2×12 <br/>\n",
    "15=7+2×2215=7+2×22<br/>\n",
    "21=3+2×3221=3+2×32<br/>\n",
    "25=7+2×3225=7+2×32<br/>\n",
    "27=19+2×2227=19+2×22<br/>\n",
    "33=31+2×1233=31+2×12<br/>\n",
    "\n",
    "It turns out that the conjecture was false.\n",
    "\n",
    "What is the smallest odd composite that cannot be written as the sum of a prime and twice a square?"
   ]
  },
  {
   "cell_type": "code",
   "execution_count": 10,
   "metadata": {},
   "outputs": [
    {
     "name": "stdout",
     "output_type": "stream",
     "text": [
      "5777\n"
     ]
    }
   ],
   "source": [
    "def prime(a):\n",
    "    if a==2:\n",
    "        return True\n",
    "    else:\n",
    "        for i in range(2,int(a**0.5)+1):\n",
    "            if a%i==0:\n",
    "                return False\n",
    "        return True\n",
    "\n",
    "\n",
    "\n",
    "def Goldbach(a):\n",
    "    prime_list=list()\n",
    "    for i in range(2,a):\n",
    "        if prime(i):\n",
    "            prime_list.append(i)\n",
    "    for i in prime_list:\n",
    "        for j in range(1,int(a**2)+1):\n",
    "            if i+2*j**2==a:\n",
    "                return True\n",
    "            elif i+2*j**2>a:\n",
    "                break\n",
    "    return False\n",
    "\n",
    "odd_composite_number=list()\n",
    "\n",
    "for i in range(3,10000,2):\n",
    "    if not prime(i):\n",
    "        odd_composite_number.append(i)\n",
    "\n",
    "for i in odd_composite_number:\n",
    "    if not Goldbach(i):\n",
    "        print(i)\n",
    "        break\n",
    "\n"
   ]
  },
  {
   "cell_type": "code",
   "execution_count": null,
   "metadata": {},
   "outputs": [],
   "source": []
  }
 ],
 "metadata": {
  "kernelspec": {
   "display_name": "Python 3",
   "language": "python",
   "name": "python3"
  },
  "language_info": {
   "codemirror_mode": {
    "name": "ipython",
    "version": 3
   },
   "file_extension": ".py",
   "mimetype": "text/x-python",
   "name": "python",
   "nbconvert_exporter": "python",
   "pygments_lexer": "ipython3",
   "version": "3.12.7"
  }
 },
 "nbformat": 4,
 "nbformat_minor": 2
}

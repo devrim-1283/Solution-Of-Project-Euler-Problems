{
 "cells": [
  {
   "cell_type": "markdown",
   "metadata": {},
   "source": [
    "# PROBLEM 42\n",
    "The Coded Triangle Numbers problem focuses on determining whether the word values in a given file are triangle numbers.\n",
    "\n",
    "A word’s value is calculated by summing the alphabetical values of its letters: A = 1, B = 2, ..., Z = 26. For example, for the word SKY:\n",
    "\n",
    "    S = 19, K = 11, Y = 25.\n",
    "    Word value: 19+11+25=5519+11+25=55.\n",
    "\n",
    "A triangle number is calculated using the formula:\n",
    "Tn=n(n+1)2\n",
    "Tn​=2n(n+1)​\n",
    "\n",
    "For n=1,2,3,…n=1,2,3,…, this generates the sequence Tn=1,3,6,10,15,21,…Tn​=1,3,6,10,15,21,….\n",
    "\n",
    "Given a list of words, the goal is:\n",
    "\n",
    "    Calculate the word value for each word.\n",
    "    Determine if the word value is a triangle number.\n",
    "    Count how many of the words are triangle words."
   ]
  },
  {
   "cell_type": "code",
   "execution_count": 2,
   "metadata": {},
   "outputs": [
    {
     "name": "stdout",
     "output_type": "stream",
     "text": [
      "162\n"
     ]
    }
   ],
   "source": [
    "def triangular(a):\n",
    "    if (((1+8*a)**0.5-1)/2).is_integer():\n",
    "        return True\n",
    "    else:\n",
    "        return False\n",
    "\n",
    "alphabet_values = {\n",
    "    'A': 1, 'B': 2, 'C': 3, 'D': 4, 'E': 5, 'F': 6, 'G': 7, \n",
    "    'H': 8, 'I': 9, 'J': 10, 'K': 11, 'L': 12, 'M': 13, \n",
    "    'N': 14, 'O': 15, 'P': 16, 'Q': 17, 'R': 18, 'S': 19, \n",
    "    'T': 20, 'U': 21, 'V': 22, 'W': 23, 'X': 24, 'Y': 25, 'Z': 26\n",
    "}\n",
    "\n",
    "with open(\"problem_42_words.txt\",\"r\") as file:\n",
    "    content = file.read()\n",
    "\n",
    "triangular_sum=0\n",
    "name=\"\"\n",
    "\n",
    "for i in content:\n",
    "    if i=='\"':\n",
    "        continue\n",
    "    elif i==\",\":\n",
    "        name_value=0\n",
    "        for j in name:\n",
    "            name_value+=alphabet_values[j]\n",
    "        if triangular(name_value):\n",
    "            triangular_sum+=1\n",
    "        name=\"\"\n",
    "    else:\n",
    "        name+=i\n",
    "# Last Value\n",
    "name_value=0\n",
    "for i in name:\n",
    "    name_value+=alphabet_values[i]\n",
    "if triangular(name_value):\n",
    "    triangular_sum+=1\n",
    "\n",
    "print(triangular_sum)\n",
    "    \n"
   ]
  }
 ],
 "metadata": {
  "kernelspec": {
   "display_name": "Python 3",
   "language": "python",
   "name": "python3"
  },
  "language_info": {
   "codemirror_mode": {
    "name": "ipython",
    "version": 3
   },
   "file_extension": ".py",
   "mimetype": "text/x-python",
   "name": "python",
   "nbconvert_exporter": "python",
   "pygments_lexer": "ipython3",
   "version": "3.12.7"
  }
 },
 "nbformat": 4,
 "nbformat_minor": 2
}

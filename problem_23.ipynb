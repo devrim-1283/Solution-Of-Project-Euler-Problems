{
 "cells": [
  {
   "cell_type": "markdown",
   "metadata": {},
   "source": [
    "# PROBLEM 23\n",
    "A perfect number is a number for which the sum of its proper divisors is exactly equal to the number. For example, the sum of the proper divisors of 28 would be 1+2+4+7+14=28, which means that 28 is a perfect number.\n",
    "\n",
    "A number n is called deficient if the sum of its proper divisors is less than n and it is called abundant if this sum exceeds n.\n",
    "\n",
    "As 12 is the smallest abundant number, 1+2+3+4+6 = 16, the smallest number that can be written as the sum of two abundant numbers is 24. By mathematical analysis, it can be shown that all integers greater than 28123 can be written as the sum of two abundant numbers. However, this upper limit cannot be reduced any further by analysis even though it is known that the greatest number that cannot be expressed as the sum of two abundant numbers is less than this limit.\n",
    "\n",
    "Find the sum of all the positive integers which cannot be written as the sum of two abundant numbers."
   ]
  },
  {
   "cell_type": "code",
   "execution_count": 1,
   "metadata": {},
   "outputs": [],
   "source": [
    "def abundant_number(a):\n",
    "    sum=0\n",
    "    for i in range(1,a//2+1):\n",
    "        if a%i==0:\n",
    "            sum+=i\n",
    "        if sum>a:\n",
    "            return True\n",
    "    return False"
   ]
  },
  {
   "cell_type": "code",
   "execution_count": 3,
   "metadata": {},
   "outputs": [
    {
     "name": "stdout",
     "output_type": "stream",
     "text": [
      "4179871\n"
     ]
    }
   ],
   "source": [
    "abundant_number_list=list()\n",
    "for i in range(12,28124):\n",
    "    if abundant_number(i):\n",
    "        abundant_number_list.append(i)\n",
    "sum_list=set()\n",
    "for i in abundant_number_list:\n",
    "    for j in abundant_number_list:\n",
    "        if i+j in sum_list:\n",
    "            continue\n",
    "        if i+j<=28123:\n",
    "            sum_list.add(i+j)\n",
    "\n",
    "sum=0\n",
    "for i in sum_list:\n",
    "    sum+=i\n",
    "sum2=0\n",
    "for i in range(1,28124):\n",
    "    sum2+=i\n",
    "print(sum2-sum)"
   ]
  }
 ],
 "metadata": {
  "kernelspec": {
   "display_name": "Python 3",
   "language": "python",
   "name": "python3"
  },
  "language_info": {
   "codemirror_mode": {
    "name": "ipython",
    "version": 3
   },
   "file_extension": ".py",
   "mimetype": "text/x-python",
   "name": "python",
   "nbconvert_exporter": "python",
   "pygments_lexer": "ipython3",
   "version": "3.12.7"
  }
 },
 "nbformat": 4,
 "nbformat_minor": 4
}

{
 "cells": [
  {
   "cell_type": "markdown",
   "metadata": {},
   "source": [
    "# PROBLEM 9\n",
    "A Pythagorean triplet is a set of three natural numbers, a < b < c, for which, a² + b² = c².\n",
    "\n",
    "For example, 3\\**2 + 4\\**2 = 9+ 16 = 25 = 5**2.\n",
    "\n",
    "There exists exactly one Pythagorean triplet for which a + b + c = 1000. Find the product abc."
   ]
  },
  {
   "cell_type": "markdown",
   "metadata": {},
   "source": [
    "# If\n",
    " a\\**2+b\\**2=c**2\n",
    "\n",
    " # and \n",
    "i>j>0\n",
    "\n",
    "# so\n",
    "a=i\\**2-j**2<br/>\n",
    "b=2*i*j<br/>\n",
    "c=i\\**2+j**2\n",
    "\n",
    "# and \n",
    "\n",
    "a+b+c=1000\n",
    "\n",
    "2*i**2 + 2*i*j = 1000\n",
    "   \n"
   ]
  },
  {
   "cell_type": "code",
   "execution_count": 2,
   "metadata": {},
   "outputs": [
    {
     "name": "stdout",
     "output_type": "stream",
     "text": [
      "375 200 425 31875000\n"
     ]
    }
   ],
   "source": [
    "def pythagorean_triplet():\n",
    "    for i in range(1,501):\n",
    "        for j in range(1,501):\n",
    "            if 2*i**2+2*i*j==1000:\n",
    "                    if i>j>0:\n",
    "                        a=i**2-j**2\n",
    "                        b=2*i*j\n",
    "                        c=i**2+j**2\n",
    "                        print(a,b,c,a*b*c)\n",
    "pythagorean_triplet()\n"
   ]
  }
 ],
 "metadata": {
  "kernelspec": {
   "display_name": "Python 3",
   "language": "python",
   "name": "python3"
  },
  "language_info": {
   "codemirror_mode": {
    "name": "ipython",
    "version": 3
   },
   "file_extension": ".py",
   "mimetype": "text/x-python",
   "name": "python",
   "nbconvert_exporter": "python",
   "pygments_lexer": "ipython3",
   "version": "3.12.7"
  }
 },
 "nbformat": 4,
 "nbformat_minor": 2
}

{
 "cells": [
  {
   "cell_type": "markdown",
   "metadata": {},
   "source": [
    "a2 + b2 = c2 a+b+c = 1000 a b c çarpımı kaçtır"
   ]
  },
  {
   "cell_type": "markdown",
   "metadata": {},
   "source": [
    "a= m2-n2\n",
    "b=2mn\n",
    "c=m2+n2\n",
    "\n",
    "m2 - n2 + 2mn + m2 + n2= 1000\n",
    "2m2+2mn=1000\n",
    "2m(m+n)=1000\n",
    "m(m+n)=500\n",
    "m>n>0 "
   ]
  },
  {
   "cell_type": "code",
   "execution_count": 12,
   "metadata": {},
   "outputs": [
    {
     "name": "stdout",
     "output_type": "stream",
     "text": [
      "375 200 425 31875000\n"
     ]
    }
   ],
   "source": [
    "def pisagorüçlüsü():\n",
    "    for i in range(1,501):\n",
    "        for j in range(1,501):\n",
    "            if 2*i*(i+j)==1000:\n",
    "                    if i>j>0:\n",
    "                        a=i**2-j**2\n",
    "                        b=2*i*j\n",
    "                        c=i**2+j**2\n",
    "                        print(a,b,c,a*b*c)\n",
    "pisagorüçlüsü()\n"
   ]
  },
  {
   "cell_type": "code",
   "execution_count": null,
   "metadata": {},
   "outputs": [],
   "source": []
  }
 ],
 "metadata": {
  "kernelspec": {
   "display_name": "Python 3",
   "language": "python",
   "name": "python3"
  },
  "language_info": {
   "codemirror_mode": {
    "name": "ipython",
    "version": 3
   },
   "file_extension": ".py",
   "mimetype": "text/x-python",
   "name": "python",
   "nbconvert_exporter": "python",
   "pygments_lexer": "ipython3",
   "version": "3.12.7"
  }
 },
 "nbformat": 4,
 "nbformat_minor": 2
}

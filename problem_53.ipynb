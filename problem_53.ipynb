{
 "cells": [
  {
   "cell_type": "markdown",
   "metadata": {},
   "source": [
    "# PROBLEM 53\n",
    "[Project Euler PROBLEM 54](https://projecteuler.net/problem=53)\n"
   ]
  },
  {
   "cell_type": "code",
   "execution_count": 14,
   "metadata": {},
   "outputs": [
    {
     "name": "stdout",
     "output_type": "stream",
     "text": [
      "4075\n"
     ]
    }
   ],
   "source": [
    "def factorial(n):\n",
    "    if n==0 or n==1:\n",
    "        return 1\n",
    "    else:\n",
    "        return n * factorial(n-1)\n",
    "    \n",
    "\n",
    "def comb_53(n):\n",
    "    sum_n=0\n",
    "    r=[x for x in range(0,n+1)] # List Comprehension\n",
    "    for i in r:\n",
    "        if (factorial(n))/(factorial(i)*factorial(n-i))>1000000:\n",
    "            sum_n+=1\n",
    "    return sum_n\n",
    "\n",
    "\n",
    "sum_result=0\n",
    "\n",
    "for n in range(1,101):\n",
    "    sum_result+=comb_53(n)\n",
    "print(sum_result)\n",
    "\n",
    "\n"
   ]
  },
  {
   "cell_type": "code",
   "execution_count": null,
   "metadata": {},
   "outputs": [],
   "source": []
  }
 ],
 "metadata": {
  "kernelspec": {
   "display_name": "Python 3",
   "language": "python",
   "name": "python3"
  },
  "language_info": {
   "codemirror_mode": {
    "name": "ipython",
    "version": 3
   },
   "file_extension": ".py",
   "mimetype": "text/x-python",
   "name": "python",
   "nbconvert_exporter": "python",
   "pygments_lexer": "ipython3",
   "version": "3.12.7"
  }
 },
 "nbformat": 4,
 "nbformat_minor": 2
}

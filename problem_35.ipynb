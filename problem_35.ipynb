{
 "cells": [
  {
   "cell_type": "markdown",
   "metadata": {},
   "source": [
    "# PROBLEM 35\n",
    "The number, 197, is called a circular prime because all rotations of the digits: 197, 971, and 719, are themselves prime.\n",
    "\n",
    "There are thirteen such primes below 100: 2, 3, 5, 7, 11, 13, 17, 31, 37, 71, 73, 79, and 97.\n",
    "\n",
    "How many circular primes are there below one million?"
   ]
  },
  {
   "cell_type": "code",
   "execution_count": 43,
   "metadata": {},
   "outputs": [
    {
     "name": "stdout",
     "output_type": "stream",
     "text": [
      "55\n"
     ]
    }
   ],
   "source": [
    "def prime(a):\n",
    "    if a==2:\n",
    "        return True\n",
    "    else:\n",
    "        for i in range(2,int(a**0.5)+1):\n",
    "            if a%i==0:\n",
    "                return False\n",
    "        return True\n",
    "\n",
    "\n",
    "\n",
    "def circular(b):\n",
    "    list_circular=list()\n",
    "    for i in range(0,len(b)):\n",
    "        list_circular.append(b)\n",
    "        b=b[1::]+b[0]\n",
    "    return list_circular\n",
    "\n",
    "\n",
    "\n",
    "list_1=[2]\n",
    "for i in range(2,1000001):\n",
    "    c=0\n",
    "    for j in str(i):\n",
    "        if int(j)%2==0:\n",
    "            c+=1\n",
    "    if c==0:\n",
    "        list_1.append(i)\n",
    "\n",
    "\n",
    "\n",
    "circular_prime=0\n",
    "for i in list_1:\n",
    "    if prime(i):\n",
    "        d=0\n",
    "        for j in circular(str(i)):\n",
    "            if not prime(int(j)):\n",
    "                d+=1    \n",
    "                break\n",
    "        if d==0:\n",
    "            circular_prime+=1\n",
    "            \n",
    "print(circular_prime)\n"
   ]
  },
  {
   "cell_type": "code",
   "execution_count": null,
   "metadata": {},
   "outputs": [],
   "source": []
  }
 ],
 "metadata": {
  "kernelspec": {
   "display_name": "Python 3",
   "language": "python",
   "name": "python3"
  },
  "language_info": {
   "codemirror_mode": {
    "name": "ipython",
    "version": 3
   },
   "file_extension": ".py",
   "mimetype": "text/x-python",
   "name": "python",
   "nbconvert_exporter": "python",
   "pygments_lexer": "ipython3",
   "version": "3.12.7"
  }
 },
 "nbformat": 4,
 "nbformat_minor": 2
}

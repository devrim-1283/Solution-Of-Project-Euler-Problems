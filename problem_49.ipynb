{
 "cells": [
  {
   "cell_type": "markdown",
   "metadata": {},
   "source": [
    "# PROBLEM 49\n",
    "Problem İngilizcesi (Kaynaktan Alıntı):\n",
    "\n",
    "    The arithmetic sequence, 1487, 1853, 2219, is unusual in that the terms are prime.\n",
    "\n",
    "    There are no arithmetic sequences of three primes below 1000, and only one arithmetic sequence of four primes below 10000:\n",
    "\n",
    "    1487, 1853, 2219, 2585.\n",
    "\n",
    "    Find the 12-digit number formed by concatenating the four terms in this sequence."
   ]
  },
  {
   "cell_type": "code",
   "execution_count": 2,
   "metadata": {},
   "outputs": [
    {
     "name": "stdout",
     "output_type": "stream",
     "text": [
      "{'296962999629'}\n"
     ]
    }
   ],
   "source": [
    "def permute(elements, current):\n",
    "    if len(elements) == 0: \n",
    "        return [current] \n",
    "    else:\n",
    "        result = []\n",
    "        for i in range(len(elements)):\n",
    "            remaining = elements[:i] + elements[i+1:]\n",
    "            new_current = current + elements[i]\n",
    "            result.extend(permute(remaining, new_current))\n",
    "        return result\n",
    "\n",
    "\n",
    "def remainder(a):\n",
    "    remainder_1=list()\n",
    "    remainder_2=list()\n",
    "    return_list=set()\n",
    "    for i in range(0,len(a)-1):\n",
    "        remainder_1.append([a[i],a[i+1],a[i+1]-a[i]])\n",
    "        remainder_2.append(a[i+1]-a[i])\n",
    "    for i in remainder_2:\n",
    "        if remainder_2.count(i)==2:\n",
    "            for x,y,z in remainder_1:\n",
    "                if z==i:\n",
    "                    return_list.add(int(x))\n",
    "                    return_list.add(int(y))\n",
    "\n",
    "    return return_list\n",
    "\n",
    "def prime(a):\n",
    "    for i in range(2,int(a**0.5)+1):\n",
    "        if a%i==0:\n",
    "            return False\n",
    "    if a<2:\n",
    "        return False\n",
    "    return True\n",
    "\n",
    "prime_list_4=list()\n",
    "for i in range(1000,9999):\n",
    "    if prime(i):\n",
    "        prime_list_4.append(i)\n",
    "\n",
    "result=set()\n",
    "for i in prime_list_4:\n",
    "    list_a=list()\n",
    "    for j in str(i):\n",
    "        list_a.append(j)\n",
    "    list_of_permute=permute(list_a,\"\")\n",
    "    permute_prime_list=list()\n",
    "    for k in list_of_permute:\n",
    "        if prime(int(k)):\n",
    "            permute_prime_list.append(int(k))\n",
    "    if len(permute_prime_list)<3:\n",
    "        continue\n",
    "    permute_prime_list.sort()\n",
    "    if len(remainder(permute_prime_list))==3:\n",
    "        string_i=\"\"\n",
    "        for x in remainder(permute_prime_list):\n",
    "            string_i+=str(x)\n",
    "        result.add(string_i)\n",
    "print(result)\n",
    "\n",
    "\n"
   ]
  },
  {
   "cell_type": "code",
   "execution_count": null,
   "metadata": {},
   "outputs": [
    {
     "name": "stdout",
     "output_type": "stream",
     "text": [
      "1487\n",
      "1847\n",
      "4817\n",
      "4871\n",
      "7481\n",
      "7841\n",
      "8147\n",
      "8741\n"
     ]
    }
   ],
   "source": [
    "\n",
    "elements = [\"1\", \"4\", \"7\", \"8\"]\n",
    "current = \"\"\n",
    "\n",
    "\n",
    "result = permute(elements, current)\n",
    "\n",
    "for i in result:\n",
    "    if prime(int(i)):\n",
    "        print(i)\n"
   ]
  }
 ],
 "metadata": {
  "kernelspec": {
   "display_name": "Python 3",
   "language": "python",
   "name": "python3"
  },
  "language_info": {
   "codemirror_mode": {
    "name": "ipython",
    "version": 3
   },
   "file_extension": ".py",
   "mimetype": "text/x-python",
   "name": "python",
   "nbconvert_exporter": "python",
   "pygments_lexer": "ipython3",
   "version": "3.12.7"
  }
 },
 "nbformat": 4,
 "nbformat_minor": 2
}

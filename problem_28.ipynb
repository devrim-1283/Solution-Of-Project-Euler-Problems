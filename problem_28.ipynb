{
 "cells": [
  {
   "cell_type": "markdown",
   "metadata": {},
   "source": [
    "# PROBLEM 28\n",
    "Starting with the number 1 and moving to the right in a clockwise direction, a 5 by 5 spiral is formed as follows:\n",
    "\n",
    "21  22  23  24  25\n",
    "20   7   8   9  10\n",
    "19   6   1   2  11\n",
    "18   5   4   3  12\n",
    "17  16  15  14  13\n",
    "\n",
    "It can be verified that the sum of the numbers on the diagonals is 101.\n",
    "\n",
    "What is the sum of the numbers on the diagonals in a 1001 by 1001 spiral formed in the same way?"
   ]
  },
  {
   "cell_type": "markdown",
   "metadata": {},
   "source": [
    "an​=(9,25,49,81,121,...)​=4n\\*\\*2+4\\*n+1<br/>\n",
    "​bn​=(5,17,37,65,101,...)=4n\\*\\*2+1<br/>\n",
    "​cn=(3,13,31,57,91,...)=4n\\*\\*2−2\\*n+1<br/>\n",
    "​dn=(7,21,43,73,111,...)=4n\\*\\*2+2\\*n+1​"
   ]
  },
  {
   "cell_type": "code",
   "execution_count": 1,
   "metadata": {},
   "outputs": [
    {
     "data": {
      "text/plain": [
       "1002001"
      ]
     },
     "execution_count": 1,
     "metadata": {},
     "output_type": "execute_result"
    }
   ],
   "source": [
    "1001*1001"
   ]
  },
  {
   "cell_type": "code",
   "execution_count": 3,
   "metadata": {},
   "outputs": [
    {
     "name": "stdout",
     "output_type": "stream",
     "text": [
      "500\n"
     ]
    }
   ],
   "source": [
    "for i in range(1,1000):\n",
    "    if 4*i**2+4*i+1==1001*1001:\n",
    "        print(i)\n",
    "        break\n",
    "# n=500"
   ]
  },
  {
   "cell_type": "code",
   "execution_count": 4,
   "metadata": {},
   "outputs": [
    {
     "name": "stdout",
     "output_type": "stream",
     "text": [
      "669171001\n"
     ]
    }
   ],
   "source": [
    "an = lambda n: 4*n**2+4*n+1\n",
    "bn = lambda n: 4*n**2+1\n",
    "cn = lambda n: 4*n**2-2*n+1\n",
    "dn = lambda n: 4*n**2+2*n+1\n",
    "sum_diogonal=1\n",
    "for i in range(1,501):\n",
    "    sum_diogonal+=an(i)\n",
    "    sum_diogonal+=bn(i)\n",
    "    sum_diogonal+=cn(i)\n",
    "    sum_diogonal+=dn(i)\n",
    "print(sum_diogonal)\n"
   ]
  }
 ],
 "metadata": {
  "kernelspec": {
   "display_name": "Python 3",
   "language": "python",
   "name": "python3"
  },
  "language_info": {
   "codemirror_mode": {
    "name": "ipython",
    "version": 3
   },
   "file_extension": ".py",
   "mimetype": "text/x-python",
   "name": "python",
   "nbconvert_exporter": "python",
   "pygments_lexer": "ipython3",
   "version": "3.12.7"
  }
 },
 "nbformat": 4,
 "nbformat_minor": 2
}

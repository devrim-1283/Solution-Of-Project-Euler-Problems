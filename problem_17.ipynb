{
 "cells": [
  {
   "cell_type": "markdown",
   "metadata": {},
   "source": [
    "# PROBLEM 17\n",
    "If the numbers 1 to 5 are written out in words: one, two, three, four, five, then there are 3+3+5+4+4 = 19 letters used in total.\n",
    "\n",
    "If all the numbers from 1 to 1000 (one thousand) inclusive were written out in words, how many letters would be used?\n",
    "\n",
    "NOTE: Do not count spaces or hyphens. For example, 342 (three hundred and forty-two) contains 23 letters and 115 (one hundred and fifteen) contains 20 letters. The use of \"and\" when writing out numbers is in compliance with British usage."
   ]
  },
  {
   "cell_type": "code",
   "execution_count": 4,
   "metadata": {},
   "outputs": [],
   "source": [
    "dict1={0:\"\",1:\"one\",2:\"two\",3:\"three\",4:\"four\",5:\"five\",6:\"six\",7:\"seven\",8:\"eight\",9:\"nine\",\n",
    "       10:\"ten\",11:\"eleven\",12:\"twelve\",13:\"thirteen\",14:\"fourteen\",15:\"fifteen\",16:\"sixteen\",17:\"seventeen\",18:\"eighteen\",19:\"nineteen\",\n",
    "       20:\"twenty\",30:\"thirty\",40:\"forty\",50:\"fifty\",60:\"sixty\",70:\"seventy\",80:\"eighty\",90:\"ninety\",100:\"hundred\"}"
   ]
  },
  {
   "cell_type": "code",
   "execution_count": 6,
   "metadata": {},
   "outputs": [
    {
     "name": "stdout",
     "output_type": "stream",
     "text": [
      "21124\n"
     ]
    }
   ],
   "source": [
    "number=\"\"\n",
    "for i in range(1,1000):\n",
    "    b=len(str(i))\n",
    "    if b==1:\n",
    "        number=number+dict1[i]\n",
    "    elif b==2:\n",
    "        if 10<i and i<20:\n",
    "            number=number+dict1[i]\n",
    "        else:\n",
    "            number=number+dict1[i-i%10]+dict1[i%10]\n",
    "    elif b==3:\n",
    "        if i%100==0:\n",
    "            number=number+dict1[i/100]+dict1[100]\n",
    "        elif 10<i%100 and i%100<20:\n",
    "            number=number+dict1[i//100]+dict1[100]+\"and\"+dict1[i%100]\n",
    "        else:\n",
    "            number=number+dict1[i//100]+dict1[100]+\"and\"+dict1[i%100-i%10]+dict1[i%10]\n",
    "number+=\"Onethousand\"\n",
    "print(len(number))"
   ]
  }
 ],
 "metadata": {
  "kernelspec": {
   "display_name": "Python 3",
   "language": "python",
   "name": "python3"
  },
  "language_info": {
   "codemirror_mode": {
    "name": "ipython",
    "version": 3
   },
   "file_extension": ".py",
   "mimetype": "text/x-python",
   "name": "python",
   "nbconvert_exporter": "python",
   "pygments_lexer": "ipython3",
   "version": "3.12.7"
  }
 },
 "nbformat": 4,
 "nbformat_minor": 2
}

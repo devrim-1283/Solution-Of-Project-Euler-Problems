{
 "cells": [
  {
   "cell_type": "markdown",
   "metadata": {},
   "source": [
    "# PROBLEM 55\n",
    "[Project Euler PROBLEM 55](https://projecteuler.net/problem=55)"
   ]
  },
  {
   "cell_type": "code",
   "execution_count": 16,
   "metadata": {},
   "outputs": [
    {
     "name": "stdout",
     "output_type": "stream",
     "text": [
      "249\n"
     ]
    }
   ],
   "source": [
    "def polindrom(n):\n",
    "    return str(n) == str(n)[::-1]\n",
    "\n",
    "\n",
    "def lychrel_numbers(n):\n",
    "    first_number=n\n",
    "    for i in range(50):\n",
    "        n=n+int(str(n)[::-1])\n",
    "        if polindrom(n):\n",
    "            return False\n",
    "    return True\n",
    "\n",
    "count=0\n",
    "for i in range(1,10001):\n",
    "    if lychrel_numbers(i):\n",
    "        count+=1\n",
    "\n",
    "print(count)\n"
   ]
  }
 ],
 "metadata": {
  "kernelspec": {
   "display_name": "Python 3",
   "language": "python",
   "name": "python3"
  },
  "language_info": {
   "codemirror_mode": {
    "name": "ipython",
    "version": 3
   },
   "file_extension": ".py",
   "mimetype": "text/x-python",
   "name": "python",
   "nbconvert_exporter": "python",
   "pygments_lexer": "ipython3",
   "version": "3.12.7"
  }
 },
 "nbformat": 4,
 "nbformat_minor": 2
}

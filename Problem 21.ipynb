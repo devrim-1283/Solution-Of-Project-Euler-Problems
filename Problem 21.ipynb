{
 "cells": [
  {
   "cell_type": "markdown",
   "metadata": {},
   "source": []
  },
  {
   "cell_type": "code",
   "execution_count": 6,
   "metadata": {},
   "outputs": [
    {
     "name": "stdout",
     "output_type": "stream",
     "text": [
      "220\n",
      "284\n",
      "1184\n",
      "1210\n",
      "2620\n",
      "2924\n",
      "5020\n",
      "5564\n",
      "6232\n",
      "6368\n"
     ]
    },
    {
     "data": {
      "text/plain": [
       "31626"
      ]
     },
     "execution_count": 6,
     "metadata": {},
     "output_type": "execute_result"
    }
   ],
   "source": [
    "def problem_21():\n",
    "    x=0\n",
    "    for i in range(1,10000):\n",
    "        b=0\n",
    "        for j in range(1,i//2+1):\n",
    "            if i%j==0:\n",
    "                b+=j\n",
    "        c=0\n",
    "        for k in range(1,b//2+1):\n",
    "            if b%k==0:\n",
    "                c+=k\n",
    "        if i==c and i!=b:\n",
    "            x+=i\n",
    "            print(i)\n",
    "    return x\n",
    "\n",
    "problem_21()\n",
    "\n",
    "            "
   ]
  }
 ],
 "metadata": {
  "kernelspec": {
   "display_name": "Python 3",
   "language": "python",
   "name": "python3"
  },
  "language_info": {
   "codemirror_mode": {
    "name": "ipython",
    "version": 3
   },
   "file_extension": ".py",
   "mimetype": "text/x-python",
   "name": "python",
   "nbconvert_exporter": "python",
   "pygments_lexer": "ipython3",
   "version": "3.12.7"
  }
 },
 "nbformat": 4,
 "nbformat_minor": 2
}

{
 "cells": [
  {
   "cell_type": "markdown",
   "metadata": {},
   "source": [
    "\n",
    "# PROBLEM 18\n",
    "https://projecteuler.net/problem=18\n",
    "\n",
    "Find the maximum total from top to bottom of the triangle below:\n",
    "                            75<br/>\n",
    "                          95 64<br/>\n",
    "                        17 47 82<br/>\n",
    "                      18 35 87 10<br/>\n",
    "                    20 04 82 47 65<br/>\n",
    "                  19 01 23 75 03 34<br/>\n",
    "                 88 02 77 73 07 63 67<br/>\n",
    "                99 65 04 28 06 16 70 92<br/>\n",
    "              41 41 26 56 83 40 80 70 33<br/>\n",
    "            41 48 72 33 47 32 37 16 94 29<br/>\n",
    "          53 71 44 65 25 43 91 52 97 51 14<br/>\n",
    "        70 11 33 28 77 73 17 78 39 68 17 57<br/>\n",
    "      91 71 52 38 17 14 91 43 58 50 27 29 48<br/>\n",
    "    63 66 04 68 89 53 67 30 73 16 69 87 40 31<br/>\n",
    "  04 62 98 27 23 09 70 98 73 93 38 53 60 04 23\n",
    "\n",
    "\n",
    "NOTE: As there are only 16384 routes, it is possible to solve this problem by trying every route. However, Problem 67, is the same challenge with a triangle containing one-hundred rows; it cannot be solved by brute force, and requires a clever method! ;o)"
   ]
  },
  {
   "cell_type": "code",
   "execution_count": 5,
   "metadata": {},
   "outputs": [
    {
     "name": "stdout",
     "output_type": "stream",
     "text": [
      "1074\n"
     ]
    }
   ],
   "source": [
    "a=\"\"\"75\n",
    "95 64\n",
    "17 47 82\n",
    "18 35 87 10\n",
    "20 04 82 47 65\n",
    "19 01 23 75 03 34\n",
    "88 02 77 73 07 63 67\n",
    "99 65 04 28 06 16 70 92\n",
    "41 41 26 56 83 40 80 70 33\n",
    "41 48 72 33 47 32 37 16 94 29\n",
    "53 71 44 65 25 43 91 52 97 51 14\n",
    "70 11 33 28 77 73 17 78 39 68 17 57\n",
    "91 71 52 38 17 14 91 43 58 50 27 29 48\n",
    "63 66 04 68 89 53 67 30 73 16 69 87 40 31\n",
    "04 62 98 27 23 09 70 98 73 93 38 53 60 04 23\"\"\"\n",
    "list_of_number=list()\n",
    "for i in a.splitlines():\n",
    "    list_of_number.append(i.split())\n",
    "for i in range(len(liste)-2,-1,-1):\n",
    "    for j in range(0,len(liste[i])):\n",
    "        list_of_number[i][j]=int(max(list_of_number[i+1][j],list_of_number[i+1][j+1]))+int(list_of_number[i][j])\n",
    "print(list_of_number[0][0])"
   ]
  },
  {
   "cell_type": "code",
   "execution_count": 4,
   "metadata": {},
   "outputs": [
    {
     "name": "stdout",
     "output_type": "stream",
     "text": [
      "[8, 7, 6, 5, 4, 3, 2, 1, 0]\n"
     ]
    }
   ],
   "source": [
    "print( list(range(10- 2, -1, -1)))"
   ]
  }
 ],
 "metadata": {
  "kernelspec": {
   "display_name": "Python 3",
   "language": "python",
   "name": "python3"
  },
  "language_info": {
   "codemirror_mode": {
    "name": "ipython",
    "version": 3
   },
   "file_extension": ".py",
   "mimetype": "text/x-python",
   "name": "python",
   "nbconvert_exporter": "python",
   "pygments_lexer": "ipython3",
   "version": "3.12.7"
  }
 },
 "nbformat": 4,
 "nbformat_minor": 2
}

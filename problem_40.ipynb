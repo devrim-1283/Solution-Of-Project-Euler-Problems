{
 "cells": [
  {
   "cell_type": "markdown",
   "metadata": {},
   "source": [
    "# PROBLEM 40\n",
    "An irrational decimal fraction is created by concatenating the positive integers:\n",
    "0.123456789101112131415161718192021...\n",
    "0.123456789101112131415161718192021...\n",
    "\n",
    "It can be seen that the 12th digit of the fractional part is 1.\n",
    "\n",
    "If dndn​ represents the nn-th digit of the fractional part, find the value of the following expression:\n",
    "d1×d10×d100×d1000×d10000×d100000×d1000000"
   ]
  },
  {
   "cell_type": "code",
   "execution_count": 6,
   "metadata": {},
   "outputs": [
    {
     "name": "stdout",
     "output_type": "stream",
     "text": [
      "210\n"
     ]
    }
   ],
   "source": [
    "Champernownes_Constant=\"\"\n",
    "for i in range(1,200000):\n",
    "    Champernownes_Constant+=str(i)\n",
    "c=Champernownes_Constant\n",
    "print(int(c[0])*int(c[9])*int(c[99])*int(c[999])*int(c[9999])*int(c[99999])*int(c[999999]))\n"
   ]
  }
 ],
 "metadata": {
  "kernelspec": {
   "display_name": "Python 3",
   "language": "python",
   "name": "python3"
  },
  "language_info": {
   "codemirror_mode": {
    "name": "ipython",
    "version": 3
   },
   "file_extension": ".py",
   "mimetype": "text/x-python",
   "name": "python",
   "nbconvert_exporter": "python",
   "pygments_lexer": "ipython3",
   "version": "3.12.7"
  }
 },
 "nbformat": 4,
 "nbformat_minor": 2
}

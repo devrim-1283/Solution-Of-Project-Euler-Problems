{
 "cells": [
  {
   "cell_type": "markdown",
   "metadata": {},
   "source": [
    "# PROBLEM 19\n",
    "You are given the following information, but you may prefer to do some research for yourself.\n",
    "\n",
    "• 1 Jan 1900 was a Monday.\n",
    "\n",
    "• Thirty days has September,\n",
    "\n",
    "April, June and November.\n",
    "\n",
    "All the rest have thirty-one,\n",
    "\n",
    "Saving February alone,\n",
    "\n",
    "Which has twenty-eight, rain or shine.\n",
    "\n",
    "And on leap years, twenty-nine.\n",
    "\n",
    "• A leap year occurs on any year evenly divisible by 4, but not on a century unless it is divisible by 400.\n",
    "\n",
    "How many Sundays fell on the first of the month during the twentieth century (1 Jan 1901 to 31 Dec 2000)?"
   ]
  },
  {
   "cell_type": "code",
   "execution_count": null,
   "metadata": {},
   "outputs": [],
   "source": [
    "dict_month={1:\"january\",2:\"february\",3:\"march\",4:\"april\",5:\"may\",6:\"june\",7:\"july\",8:\"august\",9:\"september\",10:\"october\",11:\"november\",12:\"december\"}\n",
    "dict_days={1:\"monday\",2:\"tuesday\",3:\"wednesday\",4:\"thursday\",5:\"friday\",6:\"saturday\",0:\"sunday\"}\n",
    "sundays=0\n",
    "date=[1,1,1900,1,\"january\",\"monday\"]\n",
    "while True:\n",
    "    if date[2]==1999 and date[0]==31 and date[1]==12:\n",
    "        break\n",
    "\n",
    "\n",
    "    date[0]+=1\n",
    "    date[3]+=1\n",
    "    date[5]=dict_days[date[3]%7]\n",
    "\n",
    "\n",
    "\n",
    "\n",
    "\n",
    "    if date[0]==31 and date[1]==12 and date[4]==\"december\":\n",
    "        date[2]+=1\n",
    "        date[1]=1\n",
    "        date[0]=1\n",
    "        date[4]=\"january\"\n",
    "\n",
    "\n",
    "    #DAY\n",
    "    if date[4]==\"september\" or date[4]== \"april\" or date[4]==\"june\" or date[4]==\"november\":\n",
    "        if date[0]==31:\n",
    "            date[0]=1\n",
    "            date[1]+=1\n",
    "            date[4]=dict_month[date[1]]\n",
    "    elif date[4]==\"february\" and date[2]%4==0:\n",
    "        if date[0]==30:\n",
    "            date[0]=1\n",
    "            date[1]+=1\n",
    "            date[4]=dict_month[date[1]]\n",
    "    elif date[4]== \"february\" and date[2]%4!=0:\n",
    "        if date[0]==29:\n",
    "            date[0]=1\n",
    "            date[1]+=1\n",
    "            date[4]=dict_month[date[1]]\n",
    "    else:\n",
    "        if date[0]==32:\n",
    "            date[0]=1\n",
    "            date[1]+=1\n",
    "            date[4]=dict_month[date[1]]\n",
    "\n",
    "    if date[2]>=1901:\n",
    "        if date[0]==1 and date[5]==\"monday\":\n",
    "            sundays+=1\n",
    "print(sundays)"
   ]
  },
  {
   "cell_type": "code",
   "execution_count": null,
   "metadata": {},
   "outputs": [],
   "source": []
  }
 ],
 "metadata": {
  "kernelspec": {
   "display_name": "Python 3",
   "language": "python",
   "name": "python3"
  },
  "language_info": {
   "codemirror_mode": {
    "name": "ipython",
    "version": 3
   },
   "file_extension": ".py",
   "mimetype": "text/x-python",
   "name": "python",
   "nbconvert_exporter": "python",
   "pygments_lexer": "ipython3",
   "version": "3.12.7"
  }
 },
 "nbformat": 4,
 "nbformat_minor": 2
}

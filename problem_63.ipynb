{
 "cells": [
  {
   "cell_type": "markdown",
   "metadata": {},
   "source": [
    "# PROBLEM 63\n"
   ]
  },
  {
   "cell_type": "code",
   "execution_count": 16,
   "metadata": {},
   "outputs": [
    {
     "name": "stdout",
     "output_type": "stream",
     "text": [
      "49\n"
     ]
    }
   ],
   "source": [
    "list_1 = [x for x in range(2,10)]\n",
    "sum=1 # 1**1 added\n",
    "for i in list_1:\n",
    "    a=0\n",
    "    while True:\n",
    "        a+=1\n",
    "        str_i = str(i**a)\n",
    "        if len(str_i)==a:\n",
    "            sum+=1\n",
    "        elif len(str_i)<a:\n",
    "            break\n",
    "print(sum)\n",
    "\n",
    "\n"
   ]
  }
 ],
 "metadata": {
  "kernelspec": {
   "display_name": "base",
   "language": "python",
   "name": "python3"
  },
  "language_info": {
   "codemirror_mode": {
    "name": "ipython",
    "version": 3
   },
   "file_extension": ".py",
   "mimetype": "text/x-python",
   "name": "python",
   "nbconvert_exporter": "python",
   "pygments_lexer": "ipython3",
   "version": "3.12.7"
  }
 },
 "nbformat": 4,
 "nbformat_minor": 2
}

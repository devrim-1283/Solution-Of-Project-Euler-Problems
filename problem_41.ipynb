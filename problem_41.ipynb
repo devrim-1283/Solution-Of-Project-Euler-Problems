{
 "cells": [
  {
   "cell_type": "markdown",
   "metadata": {},
   "source": [
    "# PROBLEM 41\n",
    "We shall say that an nn-digit number is pandigital if it makes use of all the digits 1 to nn exactly once. For example, 2143 is a 4-digit pandigital and is also prime.\n",
    "\n",
    "What is the largest nn-digit pandigital prime that exists?"
   ]
  },
  {
   "cell_type": "code",
   "execution_count": 1,
   "metadata": {},
   "outputs": [
    {
     "name": "stdout",
     "output_type": "stream",
     "text": [
      "7652413\n"
     ]
    }
   ],
   "source": [
    "def permute(elements, current):\n",
    "    if len(elements) == 0: \n",
    "        return [current] \n",
    "    else:\n",
    "        result = []\n",
    "        for i in range(len(elements)):\n",
    "            remaining = elements[:i] + elements[i+1:]\n",
    "            new_current = current + elements[i]\n",
    "            result.extend(permute(remaining, new_current))\n",
    "        return result\n",
    "\n",
    "def prime(a):\n",
    "    if a==2:\n",
    "        return True\n",
    "    else:\n",
    "        for i in range(2,int(a**0.5)+1):\n",
    "            if a%i==0:\n",
    "                return False\n",
    "    return True\n",
    "\n",
    "\n",
    "pandigital=list()\n",
    "for i in range(1,10):\n",
    "    permute_list=list()\n",
    "    for j in range(1,i+1):\n",
    "        permute_list.append(str(j))\n",
    "    a_pandigital=permute(permute_list,\"\")\n",
    "    for k in a_pandigital:\n",
    "        pandigital.append(int(k))\n",
    "\n",
    "for i in pandigital[::-1]:\n",
    "    if prime(i):\n",
    "        print(i)\n",
    "        break\n",
    "\n"
   ]
  }
 ],
 "metadata": {
  "kernelspec": {
   "display_name": "Python 3",
   "language": "python",
   "name": "python3"
  },
  "language_info": {
   "codemirror_mode": {
    "name": "ipython",
    "version": 3
   },
   "file_extension": ".py",
   "mimetype": "text/x-python",
   "name": "python",
   "nbconvert_exporter": "python",
   "pygments_lexer": "ipython3",
   "version": "3.12.7"
  }
 },
 "nbformat": 4,
 "nbformat_minor": 2
}

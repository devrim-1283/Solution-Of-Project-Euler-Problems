{
 "cells": [
  {
   "cell_type": "markdown",
   "metadata": {},
   "source": [
    "# PROBLEM 52\n",
    "You are tasked with finding the smallest positive integer x such that the following five multiples of x (i.e., 2x, 3x, 4x, 5x, and 6x) are **permutations of the digits of x."
   ]
  },
  {
   "cell_type": "code",
   "execution_count": 10,
   "metadata": {},
   "outputs": [
    {
     "name": "stdout",
     "output_type": "stream",
     "text": [
      "142857\n"
     ]
    }
   ],
   "source": [
    "def Permuted_multiples(a):\n",
    "    multiples_list=list()\n",
    "    for i in range(2,7):\n",
    "        multiples_list.append(a*i)\n",
    "    permute_list=list()\n",
    "    for i in str(a):\n",
    "        permute_list.append(int(i))\n",
    "    for i in multiples_list:\n",
    "        for j in str(i):\n",
    "            if int(j) in permute_list:\n",
    "                continue\n",
    "            else:\n",
    "                return False\n",
    "    return True \n",
    "\n",
    "number=1\n",
    "while not Permuted_multiples(number):\n",
    "    number+=1\n",
    "print(number)"
   ]
  }
 ],
 "metadata": {
  "kernelspec": {
   "display_name": "Python 3",
   "language": "python",
   "name": "python3"
  },
  "language_info": {
   "codemirror_mode": {
    "name": "ipython",
    "version": 3
   },
   "file_extension": ".py",
   "mimetype": "text/x-python",
   "name": "python",
   "nbconvert_exporter": "python",
   "pygments_lexer": "ipython3",
   "version": "3.12.7"
  }
 },
 "nbformat": 4,
 "nbformat_minor": 2
}

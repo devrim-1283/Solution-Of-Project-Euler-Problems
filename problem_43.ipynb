{
 "cells": [
  {
   "cell_type": "markdown",
   "metadata": {},
   "source": [
    "# PROBLEM 43\n",
    "Tabii! İşte fotoğraftaki metin:\n",
    "\n",
    "The number, 1406357289, is a 0 to 9 pandigital number because it is made up of each of the digits 0 to 9 in some order, but it also has a rather interesting sub-string divisibility property.\n",
    "\n",
    "Let d1d1​ be the 1st digit, d2d2​ be the 2nd digit, and so on. In this way, we note the following:\n",
    "\n",
    "    d2d3d4=406d2​d3​d4​=406 is divisible by 2\n",
    "    d3d4d5=063d3​d4​d5​=063 is divisible by 3\n",
    "    d4d5d6=635d4​d5​d6​=635 is divisible by 5\n",
    "    d5d6d7=357d5​d6​d7​=357 is divisible by 7\n",
    "    d6d7d8=572d6​d7​d8​=572 is divisible by 11\n",
    "    d7d8d9=728d7​d8​d9​=728 is divisible by 13\n",
    "    d8d9d10=289d8​d9​d10​=289 is divisible by 17\n",
    "\n",
    "Find the sum of all 0 to 9 pandigital numbers with this property."
   ]
  },
  {
   "cell_type": "code",
   "execution_count": 16,
   "metadata": {},
   "outputs": [
    {
     "name": "stdout",
     "output_type": "stream",
     "text": [
      "16695334890\n"
     ]
    }
   ],
   "source": [
    "def permute(elements, current):\n",
    "    if len(elements) == 0: \n",
    "        return [current] \n",
    "    else:\n",
    "        result = []\n",
    "        for i in range(len(elements)):\n",
    "            remaining = elements[:i] + elements[i+1:]\n",
    "            new_current = current + elements[i]\n",
    "            result.extend(permute(remaining, new_current))\n",
    "        return result\n",
    "pandigitial_0=permute([\"0\",\"1\",\"2\",\"3\",\"4\",\"5\",\"6\",\"7\",\"8\",\"9\"],\"\")\n",
    "pandigitial_1=pandigitial_0[362880:]\n",
    "def pandigital(a):\n",
    "    if (int(a[1:4])/2).is_integer():\n",
    "        if (int(a[2:5])/3).is_integer():\n",
    "            if (int(a[3:6])/5).is_integer():\n",
    "                if (int(a[4:7])/7).is_integer():\n",
    "                    if (int(a[5:8])/11).is_integer():\n",
    "                        if (int(a[6:9])/13).is_integer():\n",
    "                            if (int(a[7:])/17).is_integer():\n",
    "                                return True\n",
    "    return False\n",
    "sum=0\n",
    "for i in pandigitial_1:\n",
    "    if pandigital(i):\n",
    "        sum+=int(i)\n",
    "print(sum)\n",
    "\n",
    "\n"
   ]
  },
  {
   "cell_type": "code",
   "execution_count": 7,
   "metadata": {},
   "outputs": [
    {
     "data": {
      "text/plain": [
       "3628800"
      ]
     },
     "execution_count": 7,
     "metadata": {},
     "output_type": "execute_result"
    }
   ],
   "source": [
    "10*9*8*7*6*5*4*3*2*1"
   ]
  }
 ],
 "metadata": {
  "kernelspec": {
   "display_name": "Python 3",
   "language": "python",
   "name": "python3"
  },
  "language_info": {
   "codemirror_mode": {
    "name": "ipython",
    "version": 3
   },
   "file_extension": ".py",
   "mimetype": "text/x-python",
   "name": "python",
   "nbconvert_exporter": "python",
   "pygments_lexer": "ipython3",
   "version": "3.12.7"
  }
 },
 "nbformat": 4,
 "nbformat_minor": 2
}

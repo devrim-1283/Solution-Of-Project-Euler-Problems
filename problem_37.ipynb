{
 "cells": [
  {
   "cell_type": "markdown",
   "metadata": {},
   "source": [
    "# PROBLEM 37\n",
    "\n",
    "Truncatable primes are primes that remain prime when digits are successively removed from left to right or right to left.\n",
    "\n",
    "For example:\n",
    "\n",
    "    3797 is a truncatable prime because:\n",
    "        Left to right: 3797, 797, 97, 7 -> All primes.\n",
    "        Right to left: 3797, 379, 37, 3 -> All primes."
   ]
  },
  {
   "cell_type": "code",
   "execution_count": 23,
   "metadata": {},
   "outputs": [
    {
     "name": "stdout",
     "output_type": "stream",
     "text": [
      "748317\n"
     ]
    }
   ],
   "source": [
    "def prime(a):\n",
    "    if a<2:\n",
    "        return False\n",
    "    elif a==2:\n",
    "        return True\n",
    "    for i in range(2,int(a**0.5)+1):\n",
    "        if a%i==0:\n",
    "            return False\n",
    "    return True\n",
    "\n",
    "def truncatable(x):\n",
    "    value=str(x)\n",
    "    if prime(x):\n",
    "        for i in range(0,len(value)):\n",
    "            if not prime(int(value[i:])):\n",
    "                return False\n",
    "        for i in range(-1,-len(value),-1):\n",
    "            if not prime(int(value[:i])):\n",
    "                return False\n",
    "        return True\n",
    "    else:\n",
    "        return False\n",
    "\n",
    "number=10\n",
    "truncatable_list=list()\n",
    "while True:\n",
    "    if truncatable(number):\n",
    "        truncatable_list.append(number)\n",
    "    number+=1\n",
    "    if len(truncatable_list)==11:\n",
    "        sum=0\n",
    "        for i in truncatable_list:\n",
    "            sum+=i\n",
    "        print(sum)\n",
    "        break"
   ]
  }
 ],
 "metadata": {
  "kernelspec": {
   "display_name": "Python 3",
   "language": "python",
   "name": "python3"
  },
  "language_info": {
   "codemirror_mode": {
    "name": "ipython",
    "version": 3
   },
   "file_extension": ".py",
   "mimetype": "text/x-python",
   "name": "python",
   "nbconvert_exporter": "python",
   "pygments_lexer": "ipython3",
   "version": "3.12.7"
  }
 },
 "nbformat": 4,
 "nbformat_minor": 2
}

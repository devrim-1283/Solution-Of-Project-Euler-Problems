{
 "cells": [
  {
   "cell_type": "markdown",
   "metadata": {},
   "source": [
    "# PROBLEM 50 \n",
    "The prime 41, can be written as the sum of six consecutive primes:\n",
    "41 = 2 + 3 + 5 + 7 + 11 + 13\n",
    "\n",
    "This is the longest sum of consecutive primes that adds to a prime below one hundred.\n",
    "\n",
    "The longest sum of consecutive primes below one thousand that adds to a prime, contains 21 terms, and is equal to 953.\n",
    "\n",
    "Which prime, below one million, can be written as the sum of the most consecutive primes?"
   ]
  },
  {
   "cell_type": "code",
   "execution_count": 17,
   "metadata": {},
   "outputs": [
    {
     "name": "stdout",
     "output_type": "stream",
     "text": [
      "997651\n"
     ]
    }
   ],
   "source": [
    "def prime(a):\n",
    "    for i in range(2,int(a**0.5)+1):\n",
    "        if a%i==0:\n",
    "            return False\n",
    "    if a<2:\n",
    "        return False\n",
    "    return True\n",
    "\n",
    "prime_list=list()\n",
    "for i in range(1,100000):\n",
    "    if prime(i):\n",
    "        prime_list.append(i)\n",
    "dict_1=dict()\n",
    "for i in range(0,547):\n",
    "    for j in range(i,547):\n",
    "        sum=0\n",
    "        for a in prime_list[i:j]:\n",
    "            sum+=a\n",
    "        if prime(sum):\n",
    "            dict_1[len(prime_list[i:j])]=sum\n",
    "\n",
    "list_1=list(dict_1.keys())\n",
    "list_1.sort()\n",
    "print(dict_1[list_1[-1]])"
   ]
  }
 ],
 "metadata": {
  "kernelspec": {
   "display_name": "Python 3",
   "language": "python",
   "name": "python3"
  },
  "language_info": {
   "codemirror_mode": {
    "name": "ipython",
    "version": 3
   },
   "file_extension": ".py",
   "mimetype": "text/x-python",
   "name": "python",
   "nbconvert_exporter": "python",
   "pygments_lexer": "ipython3",
   "version": "3.12.7"
  }
 },
 "nbformat": 4,
 "nbformat_minor": 2
}

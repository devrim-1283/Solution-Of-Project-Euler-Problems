{
 "cells": [
  {
   "cell_type": "markdown",
   "metadata": {},
   "source": [
    "# PROBLEM 39\n",
    "Project Euler Problem 39: Integer Right Triangles\n",
    "\n",
    "If pp is the perimeter of a right angle triangle with integral length sides, {a,b,c}{a,b,c}, there are exactly three solutions for p=120p=120:\n",
    "{20,48,52},{24,45,51},{30,40,50}\n",
    "{20,48,52},{24,45,51},{30,40,50}\n",
    "\n",
    "For which value of p≤1000, is the number of solutions maximized?"
   ]
  },
  {
   "cell_type": "code",
   "execution_count": 27,
   "metadata": {},
   "outputs": [
    {
     "name": "stdout",
     "output_type": "stream",
     "text": [
      "840\n"
     ]
    }
   ],
   "source": [
    "result=0\n",
    "answer=0\n",
    "for i in range(12,1001):\n",
    "    d=0\n",
    "    for a in range(1,i):\n",
    "        for b in range(1,i-a):\n",
    "            if a<i-a-b and b<i-a-b:\n",
    "                if a**2+b**2==(i-a-b)**2:\n",
    "                    c=(a**2+b**2)**0.5\n",
    "                    if a+b+c==i:\n",
    "                        d+=1\n",
    "    if result<d:\n",
    "        result=d\n",
    "        answer=i\n",
    "print(answer)"
   ]
  }
 ],
 "metadata": {
  "kernelspec": {
   "display_name": "Python 3",
   "language": "python",
   "name": "python3"
  },
  "language_info": {
   "codemirror_mode": {
    "name": "ipython",
    "version": 3
   },
   "file_extension": ".py",
   "mimetype": "text/x-python",
   "name": "python",
   "nbconvert_exporter": "python",
   "pygments_lexer": "ipython3",
   "version": "3.12.7"
  }
 },
 "nbformat": 4,
 "nbformat_minor": 2
}

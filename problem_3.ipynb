{
 "cells": [
  {
   "cell_type": "markdown",
   "metadata": {},
   "source": [
    "# PROBLEM 3\n",
    "The prime factors of 13195 are 5, 7, 13 and 29.\n",
    "\n",
    "What is the largest prime factor of the number 600851475143?"
   ]
  },
  {
   "cell_type": "code",
   "execution_count": 3,
   "metadata": {},
   "outputs": [
    {
     "data": {
      "text/plain": [
       "6857"
      ]
     },
     "execution_count": 3,
     "metadata": {},
     "output_type": "execute_result"
    }
   ],
   "source": [
    "def largest_prime_factor():\n",
    "    divider_list=list()\n",
    "    new_value= 600851475143 **0.5        # This row is important for you. By calculating the square root of a, the code reduces the number of divisors to check, as any factor larger than the square root would have already been paired with a smaller factor that has already been checked.\n",
    "    for i in range(2,int(new_value)):\n",
    "        if  600851475143 %i==0:\n",
    "            divider_list.append(i)\n",
    "    prime_factor_list=list()\n",
    "    for i in divider_list:\n",
    "        check=0\n",
    "        for j in range(2,i):\n",
    "            if i%j==0:\n",
    "                check+=1\n",
    "        if check==0:\n",
    "            prime_factor_list.append(i)\n",
    "    prime_factor_list.sort()\n",
    "    return prime_factor_list[-1]\n",
    "largest_prime_factor()"
   ]
  },
  {
   "cell_type": "code",
   "execution_count": 4,
   "metadata": {},
   "outputs": [
    {
     "name": "stdout",
     "output_type": "stream",
     "text": [
      "6857\n"
     ]
    }
   ],
   "source": [
    "divider_list=list()\n",
    "new_value= 600851475143 **0.5        # This row is important for you. By calculating the square root of a, the code reduces the number of divisors to check, as any factor larger than the square root would have already been paired with a smaller factor that has already been checked.\n",
    "for i in range(2,int(new_value)):\n",
    "    if  600851475143 %i==0:\n",
    "        divider_list.append(i)\n",
    "prime_factor_list=list()\n",
    "for i in divider_list:\n",
    "    check=0\n",
    "    for j in range(2,i):\n",
    "        if i%j==0:\n",
    "            check+=1\n",
    "    if check==0:\n",
    "        prime_factor_list.append(i)\n",
    "prime_factor_list.sort()\n",
    "print(prime_factor_list[-1])"
   ]
  },
  {
   "cell_type": "code",
   "execution_count": null,
   "metadata": {},
   "outputs": [],
   "source": []
  }
 ],
 "metadata": {
  "kernelspec": {
   "display_name": "Python 3",
   "language": "python",
   "name": "python3"
  },
  "language_info": {
   "codemirror_mode": {
    "name": "ipython",
    "version": 3
   },
   "file_extension": ".py",
   "mimetype": "text/x-python",
   "name": "python",
   "nbconvert_exporter": "python",
   "pygments_lexer": "ipython3",
   "version": "3.12.7"
  }
 },
 "nbformat": 4,
 "nbformat_minor": 2
}

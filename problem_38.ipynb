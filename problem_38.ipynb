{
 "cells": [
  {
   "cell_type": "markdown",
   "metadata": {},
   "source": [
    "# PROBLEM 38\n",
    "The fraction 49/98​ is a curious fraction, as an inexperienced mathematician in attempting to simplify it may incorrectly believe that 49/98=4/8​, which is correct, is obtained by cancelling the 9s.\n",
    "\n",
    "We shall consider fractions like 30/50=3/5​ to be trivial examples.\n",
    "\n",
    "There are exactly four non-trivial examples of this type of fraction, less than one in value, and containing two digits in the numerator and denominator.\n",
    "\n",
    "If the product of these four fractions is given in its lowest common terms, find the value of the denominator.\n"
   ]
  },
  {
   "cell_type": "code",
   "execution_count": 7,
   "metadata": {},
   "outputs": [
    {
     "name": "stdout",
     "output_type": "stream",
     "text": [
      "100\n"
     ]
    }
   ],
   "source": [
    "def gcd(a,b):\n",
    "    list_of_gcd=list()\n",
    "    if a>b:\n",
    "        a,b=b,a\n",
    "    if b%a==0:\n",
    "        return a\n",
    "    for i in range(1,a//2+1):\n",
    "        if a%i==0 and b%i==0:\n",
    "            list_of_gcd.append(i)\n",
    "    return list_of_gcd[-1]\n",
    "\n",
    "fraction=list()\n",
    "for i in range(10,99):\n",
    "    for j in range(i+1,100):\n",
    "        divisor1=i/j\n",
    "        list_i=list(str(i))\n",
    "        list_j=list(str(j))\n",
    "        for k in list_i:\n",
    "            if k in list_j:\n",
    "                if k!=\"0\":\n",
    "                    list_i.remove(k)\n",
    "                    list_j.remove(k)\n",
    "                    new_i=\"\"\n",
    "                    new_j=\"\"\n",
    "                    for x in list_i:\n",
    "                        new_i+=x\n",
    "                    for y in list_j:\n",
    "                        new_j+=y\n",
    "                    if int(new_i)!=0 and int(new_j)!=0:\n",
    "                        divisor2=int(new_i)/int(new_j)\n",
    "                        if divisor1==divisor2:\n",
    "                            fraction.append((i,j))\n",
    "numerator=1\n",
    "denominator=1\n",
    "for i,j in fraction:\n",
    "    numerator*=i\n",
    "    denominator*=j\n",
    "gcd_value=gcd(numerator,denominator)\n",
    "print(denominator//gcd_value)"
   ]
  }
 ],
 "metadata": {
  "kernelspec": {
   "display_name": "Python 3",
   "language": "python",
   "name": "python3"
  },
  "language_info": {
   "codemirror_mode": {
    "name": "ipython",
    "version": 3
   },
   "file_extension": ".py",
   "mimetype": "text/x-python",
   "name": "python",
   "nbconvert_exporter": "python",
   "pygments_lexer": "ipython3",
   "version": "3.12.7"
  }
 },
 "nbformat": 4,
 "nbformat_minor": 2
}

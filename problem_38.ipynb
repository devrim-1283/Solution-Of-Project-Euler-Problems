{
 "cells": [
  {
   "cell_type": "markdown",
   "metadata": {},
   "source": [
    "# PROBLEM 38\n",
    "Project Euler Problem 38: Pandigital Multiples\n",
    "\n",
    "Take the number 192 and multiply it by each of 1, 2, and 3:\n",
    "192×1=192,192×2=384,192×3=576\n",
    "192×1=192,192×2=384,192×3=576\n",
    "\n",
    "By concatenating these products, we get the 9-digit number 192384576. This is a pandigital number because it is made up of the digits 1 to 9 exactly once.\n",
    "\n",
    "The same can be achieved by starting with 9 and multiplying by 1, 2, 3, 4, and 5, giving the pandigital 918273645, which is the concatenated product of 9×(1,2,3,4,5)9×(1,2,3,4,5).\n",
    "\n",
    "What is the largest 1 to 9 pandigital 9-digit number that can be formed as the concatenated product of an integer with (1,2,…,n)(1,2,…,n) where n>1n>1?"
   ]
  },
  {
   "cell_type": "code",
   "execution_count": 5,
   "metadata": {},
   "outputs": [
    {
     "name": "stdout",
     "output_type": "stream",
     "text": [
      "932718654\n"
     ]
    }
   ],
   "source": [
    "def permute(elements, current):\n",
    "    if len(elements) == 0: \n",
    "        return [current] \n",
    "    else:\n",
    "        result = []\n",
    "        for i in range(len(elements)):\n",
    "            remaining = elements[:i] + elements[i+1:]\n",
    "            new_current = current + elements[i]\n",
    "            result.extend(permute(remaining, new_current))\n",
    "        return result\n",
    "list_1=permute([\"1\",\"2\",\"3\",\"4\",\"5\",\"6\",\"7\",\"8\",\"9\"],\"\")\n",
    "list_1.sort(reverse=True)\n",
    "for i in range(9999,1,-1):\n",
    "    a=\"\"\n",
    "    for j in range(1,7):\n",
    "        a=a+str(j*i)\n",
    "        if len(a)>=9:\n",
    "            break\n",
    "    if len(a)==9 and a in list_1:\n",
    "        print(a)\n",
    "        break\n",
    "\n"
   ]
  }
 ],
 "metadata": {
  "kernelspec": {
   "display_name": "Python 3",
   "language": "python",
   "name": "python3"
  },
  "language_info": {
   "codemirror_mode": {
    "name": "ipython",
    "version": 3
   },
   "file_extension": ".py",
   "mimetype": "text/x-python",
   "name": "python",
   "nbconvert_exporter": "python",
   "pygments_lexer": "ipython3",
   "version": "3.12.7"
  }
 },
 "nbformat": 4,
 "nbformat_minor": 2
}

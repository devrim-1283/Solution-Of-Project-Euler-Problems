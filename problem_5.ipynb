{
 "cells": [
  {
   "cell_type": "markdown",
   "metadata": {},
   "source": [
    "# PROBLEM 5\n",
    "2520 is the smallest number that can be divided by each of the numbers from 1 to 10 without any remainder.\n",
    "\n",
    "What is the smallest positive number that is evenly divisible by all of the numbers from 1 to 20?"
   ]
  },
  {
   "cell_type": "code",
   "execution_count": null,
   "metadata": {},
   "outputs": [
    {
     "data": {
      "text/plain": [
       "232792560"
      ]
     },
     "execution_count": 6,
     "metadata": {},
     "output_type": "execute_result"
    }
   ],
   "source": [
    "def problem_5():\n",
    "    prime_number_list=list()\n",
    "    for i in range(2,21):\n",
    "        check=0\n",
    "        for j in range(2,i+1):\n",
    "            if i%j==0:\n",
    "                check+=j\n",
    "        if check==i:\n",
    "            prime_number_list.append(i)\n",
    "    multiplication_list=list()\n",
    "    for i in prime_number_list:\n",
    "        while True:\n",
    "            if i>20:\n",
    "                multiplication_list.append(int(i**0.5))\n",
    "                break\n",
    "            i*=i\n",
    "    solution=1\n",
    "    for i in multiplication_list:\n",
    "        solution*=i\n",
    "    return solution\n",
    "problem_5()"
   ]
  },
  {
   "cell_type": "markdown",
   "metadata": {},
   "source": []
  },
  {
   "cell_type": "code",
   "execution_count": 8,
   "metadata": {},
   "outputs": [
    {
     "name": "stdout",
     "output_type": "stream",
     "text": [
      "232792560\n"
     ]
    }
   ],
   "source": [
    "prime_number_list=list()\n",
    "for i in range(2,21):\n",
    "    check=0\n",
    "    for j in range(2,i+1):\n",
    "        if i%j==0:\n",
    "            check+=j\n",
    "    if check==i:\n",
    "        prime_number_list.append(i)\n",
    "multiplication_list=list()\n",
    "for i in prime_number_list:\n",
    "    while True:\n",
    "        if i>20:\n",
    "            multiplication_list.append(int(i**0.5))\n",
    "            break\n",
    "        i*=i\n",
    "solution=1\n",
    "for i in multiplication_list:\n",
    "    solution*=i\n",
    "print(solution)"
   ]
  },
  {
   "cell_type": "code",
   "execution_count": null,
   "metadata": {},
   "outputs": [],
   "source": []
  }
 ],
 "metadata": {
  "kernelspec": {
   "display_name": "Python 3",
   "language": "python",
   "name": "python3"
  },
  "language_info": {
   "codemirror_mode": {
    "name": "ipython",
    "version": 3
   },
   "file_extension": ".py",
   "mimetype": "text/x-python",
   "name": "python",
   "nbconvert_exporter": "python",
   "pygments_lexer": "ipython3",
   "version": "3.12.7"
  }
 },
 "nbformat": 4,
 "nbformat_minor": 2
}

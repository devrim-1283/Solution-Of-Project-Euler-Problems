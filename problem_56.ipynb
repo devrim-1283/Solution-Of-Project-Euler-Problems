{
 "cells": [
  {
   "cell_type": "markdown",
   "metadata": {},
   "source": [
    "# PROBLEM 56 \n",
    "[Project Euler PROBLEM 56](https://projecteuler.net/problem=56)"
   ]
  },
  {
   "cell_type": "code",
   "execution_count": 4,
   "metadata": {},
   "outputs": [
    {
     "name": "stdout",
     "output_type": "stream",
     "text": [
      "972\n"
     ]
    }
   ],
   "source": [
    "def problem_56(a,b):\n",
    "    sum=0\n",
    "    for i in str(pow(a,b)):\n",
    "        sum+=int(i)\n",
    "    return sum\n",
    "\n",
    "max_sum=0\n",
    "for i in range(1,100):\n",
    "    for j in range(1,100):\n",
    "        if problem_56(i,j)>max_sum:\n",
    "            max_sum=problem_56(i,j)\n",
    "print(max_sum)\n"
   ]
  }
 ],
 "metadata": {
  "kernelspec": {
   "display_name": "Python 3",
   "language": "python",
   "name": "python3"
  },
  "language_info": {
   "codemirror_mode": {
    "name": "ipython",
    "version": 3
   },
   "file_extension": ".py",
   "mimetype": "text/x-python",
   "name": "python",
   "nbconvert_exporter": "python",
   "pygments_lexer": "ipython3",
   "version": "3.12.7"
  }
 },
 "nbformat": 4,
 "nbformat_minor": 2
}

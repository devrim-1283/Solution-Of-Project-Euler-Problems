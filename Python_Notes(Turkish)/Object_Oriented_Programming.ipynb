{
 "cells": [
  {
   "cell_type": "markdown",
   "metadata": {},
   "source": [
    "# OBJECT ORIENTED PROGRAMMING\n"
   ]
  },
  {
   "cell_type": "code",
   "execution_count": null,
   "metadata": {},
   "outputs": [],
   "source": [
    "# Class'lar kendi oluşturduğumuz veri tipidir aslında gelin bir class oluşturalım\n",
    "\n",
    "class employee():\n",
    "    name= \"Devrim\"\n",
    "    surname= \"Tunçer\"    # Sınıfımızın özellikleri (attributes)\n",
    "    department= \"IT\"\n",
    "    sallary=30000\n"
   ]
  },
  {
   "cell_type": "code",
   "execution_count": 8,
   "metadata": {},
   "outputs": [],
   "source": [
    "employee1 = employee()"
   ]
  },
  {
   "cell_type": "code",
   "execution_count": 9,
   "metadata": {},
   "outputs": [
    {
     "data": {
      "text/plain": [
       "__main__.employee"
      ]
     },
     "execution_count": 9,
     "metadata": {},
     "output_type": "execute_result"
    }
   ],
   "source": [
    "type(employee1)"
   ]
  },
  {
   "cell_type": "code",
   "execution_count": 10,
   "metadata": {},
   "outputs": [
    {
     "data": {
      "text/plain": [
       "<__main__.employee at 0x7df41ab185c0>"
      ]
     },
     "execution_count": 10,
     "metadata": {},
     "output_type": "execute_result"
    }
   ],
   "source": [
    "employee1"
   ]
  },
  {
   "cell_type": "code",
   "execution_count": 11,
   "metadata": {},
   "outputs": [
    {
     "data": {
      "text/plain": [
       "'Devrim'"
      ]
     },
     "execution_count": 11,
     "metadata": {},
     "output_type": "execute_result"
    }
   ],
   "source": [
    "employee1.name"
   ]
  },
  {
   "cell_type": "code",
   "execution_count": 12,
   "metadata": {},
   "outputs": [
    {
     "data": {
      "text/plain": [
       "'Tunçer'"
      ]
     },
     "execution_count": 12,
     "metadata": {},
     "output_type": "execute_result"
    }
   ],
   "source": [
    "employee1.surname"
   ]
  },
  {
   "cell_type": "code",
   "execution_count": 13,
   "metadata": {},
   "outputs": [
    {
     "data": {
      "text/plain": [
       "'IT'"
      ]
     },
     "execution_count": 13,
     "metadata": {},
     "output_type": "execute_result"
    }
   ],
   "source": [
    "employee1.department"
   ]
  },
  {
   "cell_type": "code",
   "execution_count": 14,
   "metadata": {},
   "outputs": [
    {
     "data": {
      "text/plain": [
       "30000"
      ]
     },
     "execution_count": 14,
     "metadata": {},
     "output_type": "execute_result"
    }
   ],
   "source": [
    "employee1.sallary"
   ]
  },
  {
   "cell_type": "code",
   "execution_count": 15,
   "metadata": {},
   "outputs": [],
   "source": [
    "employee2=employee()"
   ]
  },
  {
   "cell_type": "code",
   "execution_count": 16,
   "metadata": {},
   "outputs": [
    {
     "data": {
      "text/plain": [
       "'Devrim'"
      ]
     },
     "execution_count": 16,
     "metadata": {},
     "output_type": "execute_result"
    }
   ],
   "source": [
    "employee2.name"
   ]
  },
  {
   "cell_type": "code",
   "execution_count": 17,
   "metadata": {},
   "outputs": [
    {
     "data": {
      "text/plain": [
       "'Devrim'"
      ]
     },
     "execution_count": 17,
     "metadata": {},
     "output_type": "execute_result"
    }
   ],
   "source": [
    "#Gördüğünüz üzere her eklediğimiz yeni objenin attributes ları aynı\n",
    "employee.name"
   ]
  },
  {
   "cell_type": "code",
   "execution_count": 18,
   "metadata": {},
   "outputs": [
    {
     "data": {
      "text/plain": [
       "'Tunçer'"
      ]
     },
     "execution_count": 18,
     "metadata": {},
     "output_type": "execute_result"
    }
   ],
   "source": [
    "employee.surname"
   ]
  },
  {
   "cell_type": "code",
   "execution_count": 19,
   "metadata": {},
   "outputs": [
    {
     "data": {
      "text/plain": [
       "['__class__',\n",
       " '__delattr__',\n",
       " '__dict__',\n",
       " '__dir__',\n",
       " '__doc__',\n",
       " '__eq__',\n",
       " '__format__',\n",
       " '__ge__',\n",
       " '__getattribute__',\n",
       " '__getstate__',\n",
       " '__gt__',\n",
       " '__hash__',\n",
       " '__init__',\n",
       " '__init_subclass__',\n",
       " '__le__',\n",
       " '__lt__',\n",
       " '__module__',\n",
       " '__ne__',\n",
       " '__new__',\n",
       " '__reduce__',\n",
       " '__reduce_ex__',\n",
       " '__repr__',\n",
       " '__setattr__',\n",
       " '__sizeof__',\n",
       " '__str__',\n",
       " '__subclasshook__',\n",
       " '__weakref__',\n",
       " 'department',\n",
       " 'name',\n",
       " 'sallary',\n",
       " 'surname']"
      ]
     },
     "execution_count": 19,
     "metadata": {},
     "output_type": "execute_result"
    }
   ],
   "source": [
    "dir(employee1)"
   ]
  },
  {
   "cell_type": "markdown",
   "metadata": {},
   "source": [
    "Burada objemizin tüm özelliklerini ve methodlarını görüyoruz. Ancak biz herhangi bir method tanımlamamıştık. Buradaki methodlar python tarafından bir obje oluşturulduğunda özel olarak tanımlanan methodlardır ve biz eğer özel olarak bunları tanımlamazsak python kendisi bunları varsayılan tanımlıyor. Burada aynı zamanda init fonksiyonunu görüyoruz. Eğer biz bu methodu kendimiz tanımlarsak objelerimizi farklı değerlerle başlatabiliriz.\n",
    "\n",
    "Aslında init methodu Python yapıcı(constructor) fonksiyon olarak tanımlanmıştır. Bu method objelerimiz oluşturulurken otomatik olarak ilk çağrılan fonksiyondur. Bu methodu özel olarak tanımlayarak objelerimizi farklı değerlerle oluşturabiliriz."
   ]
  },
  {
   "cell_type": "code",
   "execution_count": 20,
   "metadata": {},
   "outputs": [],
   "source": [
    "class employee():\n",
    "    # Şimdilik class attributes ına ihtiyacımız yok.\n",
    "\n",
    "    def __init__(self):\n",
    "        print(\"init function called\")"
   ]
  },
  {
   "cell_type": "code",
   "execution_count": 21,
   "metadata": {},
   "outputs": [
    {
     "name": "stdout",
     "output_type": "stream",
     "text": [
      "init function called\n"
     ]
    }
   ],
   "source": [
    "employee1= employee()"
   ]
  },
  {
   "cell_type": "markdown",
   "metadata": {},
   "source": [
    "Burada selfe dikkat edilmesi gerekiyor self objeyi gösteren bir referanstır ve methodlarımızda en başta bulunması gereken bir parametredir. Daha iyi anlamak için örneklere bakalım."
   ]
  },
  {
   "cell_type": "code",
   "execution_count": null,
   "metadata": {},
   "outputs": [],
   "source": [
    "class employee():\n",
    "    \n",
    "\n",
    "    def __init__(self,name,surname,department,sallary):\n",
    "        # Artık objelerimizi oluştururken yukarıdaki parametreleri girmemiz gerekiyor\n",
    "        \n",
    "        self.name=name\n",
    "        # employee1.name yazdığımızda employee atadığımız ismi görmek için self.name e name i atıyoruz\n",
    "        self.surname=surname\n",
    "        self.department=department\n",
    "        self.sallary=sallary"
   ]
  },
  {
   "cell_type": "code",
   "execution_count": 23,
   "metadata": {},
   "outputs": [
    {
     "ename": "TypeError",
     "evalue": "employee.__init__() missing 4 required positional arguments: 'name', 'surname', 'department', and 'sallary'",
     "output_type": "error",
     "traceback": [
      "\u001b[0;31m---------------------------------------------------------------------------\u001b[0m",
      "\u001b[0;31mTypeError\u001b[0m                                 Traceback (most recent call last)",
      "Cell \u001b[0;32mIn[23], line 1\u001b[0m\n\u001b[0;32m----> 1\u001b[0m employee1\u001b[38;5;241m=\u001b[39m\u001b[43memployee\u001b[49m\u001b[43m(\u001b[49m\u001b[43m)\u001b[49m\n",
      "\u001b[0;31mTypeError\u001b[0m: employee.__init__() missing 4 required positional arguments: 'name', 'surname', 'department', and 'sallary'"
     ]
    }
   ],
   "source": [
    "employee1=employee()"
   ]
  },
  {
   "cell_type": "code",
   "execution_count": 27,
   "metadata": {},
   "outputs": [],
   "source": [
    "employee1=employee(\"Devrim\",\"Tunçer\",\"IT\",35000)"
   ]
  },
  {
   "cell_type": "code",
   "execution_count": 28,
   "metadata": {},
   "outputs": [
    {
     "data": {
      "text/plain": [
       "'Devrim'"
      ]
     },
     "execution_count": 28,
     "metadata": {},
     "output_type": "execute_result"
    }
   ],
   "source": [
    "employee1.name"
   ]
  },
  {
   "cell_type": "code",
   "execution_count": 29,
   "metadata": {},
   "outputs": [
    {
     "data": {
      "text/plain": [
       "'Tunçer'"
      ]
     },
     "execution_count": 29,
     "metadata": {},
     "output_type": "execute_result"
    }
   ],
   "source": [
    "employee1.surname"
   ]
  },
  {
   "cell_type": "code",
   "execution_count": 31,
   "metadata": {},
   "outputs": [
    {
     "data": {
      "text/plain": [
       "35000"
      ]
     },
     "execution_count": 31,
     "metadata": {},
     "output_type": "execute_result"
    }
   ],
   "source": [
    "employee1.sallary"
   ]
  },
  {
   "cell_type": "code",
   "execution_count": 32,
   "metadata": {},
   "outputs": [],
   "source": [
    "employee2=employee(\"Esma\",\"Tanşa\",\"IT\",50000)"
   ]
  },
  {
   "cell_type": "code",
   "execution_count": 33,
   "metadata": {},
   "outputs": [
    {
     "data": {
      "text/plain": [
       "'Esma'"
      ]
     },
     "execution_count": 33,
     "metadata": {},
     "output_type": "execute_result"
    }
   ],
   "source": [
    "employee2.name"
   ]
  },
  {
   "cell_type": "code",
   "execution_count": 34,
   "metadata": {},
   "outputs": [
    {
     "data": {
      "text/plain": [
       "'Tanşa'"
      ]
     },
     "execution_count": 34,
     "metadata": {},
     "output_type": "execute_result"
    }
   ],
   "source": [
    "employee2.surname"
   ]
  },
  {
   "cell_type": "code",
   "execution_count": 36,
   "metadata": {},
   "outputs": [
    {
     "data": {
      "text/plain": [
       "50000"
      ]
     },
     "execution_count": 36,
     "metadata": {},
     "output_type": "execute_result"
    }
   ],
   "source": [
    "employee2.sallary"
   ]
  },
  {
   "cell_type": "code",
   "execution_count": 37,
   "metadata": {},
   "outputs": [],
   "source": [
    "class employee():\n",
    "    \n",
    "\n",
    "    def __init__(self,name,surname,department,sallary):\n",
    "       \n",
    "        \n",
    "        self.name=surname\n",
    "        \n",
    "        self.surname=name\n",
    "# Farkı anlamak için örnekleri inceleyelim\n",
    "        self.department=department\n",
    "\n",
    "        self.sallary=sallary"
   ]
  },
  {
   "cell_type": "code",
   "execution_count": 38,
   "metadata": {},
   "outputs": [],
   "source": [
    "employee1=employee(\"Devrim\",\"Tunçer\",\"IT\",20000)"
   ]
  },
  {
   "cell_type": "code",
   "execution_count": 39,
   "metadata": {},
   "outputs": [
    {
     "data": {
      "text/plain": [
       "'Tunçer'"
      ]
     },
     "execution_count": 39,
     "metadata": {},
     "output_type": "execute_result"
    }
   ],
   "source": [
    "employee1.name"
   ]
  },
  {
   "cell_type": "code",
   "execution_count": 40,
   "metadata": {},
   "outputs": [
    {
     "data": {
      "text/plain": [
       "'Devrim'"
      ]
     },
     "execution_count": 40,
     "metadata": {},
     "output_type": "execute_result"
    }
   ],
   "source": [
    "employee1.surname"
   ]
  },
  {
   "cell_type": "code",
   "execution_count": 55,
   "metadata": {},
   "outputs": [],
   "source": [
    "# Parametrelere default değerlerde atayabiliriz\n",
    "class vegetables():\n",
    "\n",
    "    def __init__(self,name = \"NO INFO\",color = \"GREEN\",price = 25,mass = \"0.250\"):\n",
    "\n",
    "        self.name=name\n",
    "\n",
    "        self.color=color\n",
    "\n",
    "        self.price=price\n",
    "\n",
    "        self.mass=mass"
   ]
  },
  {
   "cell_type": "code",
   "execution_count": 56,
   "metadata": {},
   "outputs": [],
   "source": [
    "maydonoz=vegetables()"
   ]
  },
  {
   "cell_type": "code",
   "execution_count": 57,
   "metadata": {},
   "outputs": [
    {
     "data": {
      "text/plain": [
       "'NO INFO'"
      ]
     },
     "execution_count": 57,
     "metadata": {},
     "output_type": "execute_result"
    }
   ],
   "source": [
    "maydonoz.name"
   ]
  },
  {
   "cell_type": "code",
   "execution_count": 58,
   "metadata": {},
   "outputs": [
    {
     "data": {
      "text/plain": [
       "'GREEN'"
      ]
     },
     "execution_count": 58,
     "metadata": {},
     "output_type": "execute_result"
    }
   ],
   "source": [
    "maydonoz.color"
   ]
  },
  {
   "cell_type": "code",
   "execution_count": 59,
   "metadata": {},
   "outputs": [
    {
     "data": {
      "text/plain": [
       "'0.250'"
      ]
     },
     "execution_count": 59,
     "metadata": {},
     "output_type": "execute_result"
    }
   ],
   "source": [
    "maydonoz.mass"
   ]
  },
  {
   "cell_type": "code",
   "execution_count": 60,
   "metadata": {},
   "outputs": [
    {
     "data": {
      "text/plain": [
       "25"
      ]
     },
     "execution_count": 60,
     "metadata": {},
     "output_type": "execute_result"
    }
   ],
   "source": [
    "maydonoz.price"
   ]
  },
  {
   "cell_type": "code",
   "execution_count": 61,
   "metadata": {},
   "outputs": [],
   "source": [
    "# Şimdi de classlara method ekleyelim\n",
    "\n",
    "class employee():\n",
    "\n",
    "    def __init__(self,name,surname,sallary,department = \"IT\"):\n",
    "\n",
    "        self.name = name\n",
    "\n",
    "        self.surname = surname\n",
    "\n",
    "        self.sallary = sallary\n",
    "\n",
    "        self.department = department\n",
    "    \n",
    "    def information(self):\n",
    "        print(f\"\"\"\n",
    "INFORMATION OF EMPLOYEE\n",
    "NAME: {self.name}\n",
    "SURNAME: {self.surname}\n",
    "SALLARY: {self.sallary}\n",
    "DEPARTMENT: {self.department}\"\"\")\n"
   ]
  },
  {
   "cell_type": "code",
   "execution_count": 62,
   "metadata": {},
   "outputs": [],
   "source": [
    "devrim=employee(\"Devrim\",\"Tunçer\",50000)"
   ]
  },
  {
   "cell_type": "code",
   "execution_count": 63,
   "metadata": {},
   "outputs": [
    {
     "name": "stdout",
     "output_type": "stream",
     "text": [
      "\n",
      "INFORMATION OF EMPLOYEE\n",
      "NAME: Devrim\n",
      "SURNAME: Tunçer\n",
      "SALLARY: 50000\n",
      "DEPARTMENT: IT\n"
     ]
    }
   ],
   "source": [
    "devrim.information()"
   ]
  },
  {
   "cell_type": "code",
   "execution_count": 66,
   "metadata": {},
   "outputs": [],
   "source": [
    "class employee():\n",
    "\n",
    "    def __init__(self,name,surname,sallary,department = \"IT\"):\n",
    "\n",
    "        self.name = name\n",
    "\n",
    "        self.surname = surname\n",
    "\n",
    "        self.sallary = sallary\n",
    "\n",
    "        self.department = department\n",
    "    \n",
    "    def information(self):\n",
    "        print(f\"\"\"\n",
    "INFORMATION OF EMPLOYEE\n",
    "NAME: {name}\n",
    "SURNAME: {surname}\n",
    "SALLARY: {sallary}\n",
    "DEPARTMENT: {department}\"\"\")"
   ]
  },
  {
   "cell_type": "code",
   "execution_count": 67,
   "metadata": {},
   "outputs": [],
   "source": [
    "devrim=employee(\"Devrim\",\"Tunçer\",50000)"
   ]
  },
  {
   "cell_type": "code",
   "execution_count": 68,
   "metadata": {},
   "outputs": [
    {
     "ename": "NameError",
     "evalue": "name 'name' is not defined",
     "output_type": "error",
     "traceback": [
      "\u001b[0;31m---------------------------------------------------------------------------\u001b[0m",
      "\u001b[0;31mNameError\u001b[0m                                 Traceback (most recent call last)",
      "Cell \u001b[0;32mIn[68], line 1\u001b[0m\n\u001b[0;32m----> 1\u001b[0m \u001b[43mdevrim\u001b[49m\u001b[38;5;241;43m.\u001b[39;49m\u001b[43minformation\u001b[49m\u001b[43m(\u001b[49m\u001b[43m)\u001b[49m\n",
      "Cell \u001b[0;32mIn[66], line 16\u001b[0m, in \u001b[0;36memployee.information\u001b[0;34m(self)\u001b[0m\n\u001b[1;32m     13\u001b[0m     \u001b[38;5;28;01mdef\u001b[39;00m \u001b[38;5;21minformation\u001b[39m(\u001b[38;5;28mself\u001b[39m):\n\u001b[1;32m     14\u001b[0m         \u001b[38;5;28mprint\u001b[39m(\u001b[38;5;124mf\u001b[39m\u001b[38;5;124m\"\"\"\u001b[39m\n\u001b[1;32m     15\u001b[0m \u001b[38;5;124mINFORMATION OF EMPLOYEE\u001b[39m\n\u001b[0;32m---> 16\u001b[0m \u001b[38;5;124mNAME: \u001b[39m\u001b[38;5;132;01m{\u001b[39;00m\u001b[43mname\u001b[49m\u001b[38;5;132;01m}\u001b[39;00m\n\u001b[1;32m     17\u001b[0m \u001b[38;5;124mSURNAME: \u001b[39m\u001b[38;5;132;01m{\u001b[39;00msurname\u001b[38;5;132;01m}\u001b[39;00m\n\u001b[1;32m     18\u001b[0m \u001b[38;5;124mSALLARY: \u001b[39m\u001b[38;5;132;01m{\u001b[39;00msallary\u001b[38;5;132;01m}\u001b[39;00m\n\u001b[1;32m     19\u001b[0m \u001b[38;5;124mDEPARTMENT: \u001b[39m\u001b[38;5;132;01m{\u001b[39;00mdepartment\u001b[38;5;132;01m}\u001b[39;00m\u001b[38;5;124m\"\"\"\u001b[39m)\n",
      "\u001b[0;31mNameError\u001b[0m: name 'name' is not defined"
     ]
    }
   ],
   "source": [
    "devrim.information()"
   ]
  },
  {
   "cell_type": "code",
   "execution_count": 69,
   "metadata": {},
   "outputs": [],
   "source": [
    "\n",
    "class employee():\n",
    "\n",
    "    def __init__(self,name,surname,sallary,department = \"IT\"):\n",
    "\n",
    "        self.name = name\n",
    "\n",
    "        self.surname = surname\n",
    "\n",
    "        self.sallary = sallary\n",
    "\n",
    "        self.department = department\n",
    "    \n",
    "    def information(self):\n",
    "        print(f\"\"\"\n",
    "INFORMATION OF EMPLOYEE\n",
    "NAME: {self.name}\n",
    "SURNAME: {self.surname}\n",
    "SALLARY: {self.sallary}\n",
    "DEPARTMENT: {self.department}\"\"\")\n",
    "        \n",
    "    def salary_increase_or_decrease(self,value):\n",
    "        self.sallary+=value\n",
    "        print(f\"New Sallary: {self.sallary}\")"
   ]
  },
  {
   "cell_type": "code",
   "execution_count": 70,
   "metadata": {},
   "outputs": [],
   "source": [
    "devrim=employee(\"Devrim\",\"Tunçer\",50000)"
   ]
  },
  {
   "cell_type": "code",
   "execution_count": 71,
   "metadata": {},
   "outputs": [
    {
     "name": "stdout",
     "output_type": "stream",
     "text": [
      "New Sallary: 49900\n"
     ]
    }
   ],
   "source": [
    "devrim.salary_increase_or_decrease(-100)"
   ]
  },
  {
   "cell_type": "code",
   "execution_count": 72,
   "metadata": {},
   "outputs": [
    {
     "name": "stdout",
     "output_type": "stream",
     "text": [
      "New Sallary: 60000\n"
     ]
    }
   ],
   "source": [
    "devrim.salary_increase_or_decrease(10100)"
   ]
  },
  {
   "cell_type": "code",
   "execution_count": 73,
   "metadata": {},
   "outputs": [],
   "source": [
    "\n",
    "class employee():\n",
    "\n",
    "    def __init__(self,name,surname,sallary,department = \"IT\"):\n",
    "\n",
    "        self.name = name\n",
    "\n",
    "        self.surname = surname\n",
    "\n",
    "        self.sallary = sallary\n",
    "\n",
    "        self.department = department\n",
    "    \n",
    "    def information(): # self yazmayı unutursak\n",
    "        print(f\"\"\"\n",
    "INFORMATION OF EMPLOYEE\n",
    "NAME: {self.name}\n",
    "SURNAME: {self.surname}\n",
    "SALLARY: {self.sallary}\n",
    "DEPARTMENT: {self.department}\"\"\")\n",
    "        \n",
    "    def salary_increase_or_decrease(self,value):\n",
    "        self.sallary+=value\n",
    "        print(f\"New Sallary: {self.sallary}\")"
   ]
  },
  {
   "cell_type": "code",
   "execution_count": 74,
   "metadata": {},
   "outputs": [],
   "source": [
    "devrim=employee(\"Devrim\",\"Tunçer\",50000)"
   ]
  },
  {
   "cell_type": "code",
   "execution_count": 77,
   "metadata": {},
   "outputs": [
    {
     "ename": "TypeError",
     "evalue": "employee.information() takes 0 positional arguments but 1 was given",
     "output_type": "error",
     "traceback": [
      "\u001b[0;31m---------------------------------------------------------------------------\u001b[0m",
      "\u001b[0;31mTypeError\u001b[0m                                 Traceback (most recent call last)",
      "Cell \u001b[0;32mIn[77], line 1\u001b[0m\n\u001b[0;32m----> 1\u001b[0m \u001b[43mdevrim\u001b[49m\u001b[38;5;241;43m.\u001b[39;49m\u001b[43minformation\u001b[49m\u001b[43m(\u001b[49m\u001b[43m)\u001b[49m\n",
      "\u001b[0;31mTypeError\u001b[0m: employee.information() takes 0 positional arguments but 1 was given"
     ]
    }
   ],
   "source": [
    "devrim.information()"
   ]
  },
  {
   "cell_type": "code",
   "execution_count": 78,
   "metadata": {},
   "outputs": [],
   "source": [
    "class employee():\n",
    "\n",
    "    def __init__(self,name,surname,sallary,department = \"IT\"):\n",
    "\n",
    "        self.name = name\n",
    "\n",
    "        self.surname = surname\n",
    "\n",
    "        self.sallary = sallary\n",
    "\n",
    "        self.department = department\n",
    "    \n",
    "    def exp():\n",
    "        print(\"exp called\")"
   ]
  },
  {
   "cell_type": "code",
   "execution_count": 79,
   "metadata": {},
   "outputs": [],
   "source": [
    "devrim=employee(\"Devrim\",\"Tunçer\",50000)"
   ]
  },
  {
   "cell_type": "code",
   "execution_count": 81,
   "metadata": {},
   "outputs": [
    {
     "ename": "TypeError",
     "evalue": "employee.exp() takes 0 positional arguments but 1 was given",
     "output_type": "error",
     "traceback": [
      "\u001b[0;31m---------------------------------------------------------------------------\u001b[0m",
      "\u001b[0;31mTypeError\u001b[0m                                 Traceback (most recent call last)",
      "Cell \u001b[0;32mIn[81], line 1\u001b[0m\n\u001b[0;32m----> 1\u001b[0m \u001b[43mdevrim\u001b[49m\u001b[38;5;241;43m.\u001b[39;49m\u001b[43mexp\u001b[49m\u001b[43m(\u001b[49m\u001b[43m)\u001b[49m\n",
      "\u001b[0;31mTypeError\u001b[0m: employee.exp() takes 0 positional arguments but 1 was given"
     ]
    }
   ],
   "source": [
    "devrim.exp()"
   ]
  },
  {
   "cell_type": "markdown",
   "metadata": {},
   "source": [
    "## INHERITANCE\n",
    "\n",
    "Kalıtım bir sınıfın başka bir sınıfın attritubesını methodlarını miras almasına denir örneklerle inceleyelim."
   ]
  },
  {
   "cell_type": "code",
   "execution_count": 99,
   "metadata": {},
   "outputs": [],
   "source": [
    "class employee():\n",
    "\n",
    "    def __init__(self,name,surname,sallary):\n",
    "\n",
    "        self.name = name\n",
    "        self.surname = surname\n",
    "        self.sallary = sallary\n",
    "\n",
    "    def information(self):\n",
    "        print(f\"\"\"\n",
    "INFORMATION OF EMPLOYEE\n",
    "NAME: {self.name}\n",
    "SURNAME: {self.surname}\n",
    "SALLARY: {self.sallary}\"\"\")\n",
    "\n",
    "        "
   ]
  },
  {
   "cell_type": "code",
   "execution_count": 100,
   "metadata": {},
   "outputs": [],
   "source": [
    "class manager(employee):\n",
    "    pass"
   ]
  },
  {
   "cell_type": "code",
   "execution_count": 101,
   "metadata": {},
   "outputs": [],
   "source": [
    "devrim = manager(\"Devrim\",\"Tunçer\",100000)"
   ]
  },
  {
   "cell_type": "code",
   "execution_count": 102,
   "metadata": {},
   "outputs": [
    {
     "data": {
      "text/plain": [
       "'Devrim'"
      ]
     },
     "execution_count": 102,
     "metadata": {},
     "output_type": "execute_result"
    }
   ],
   "source": [
    "devrim.name"
   ]
  },
  {
   "cell_type": "code",
   "execution_count": 103,
   "metadata": {},
   "outputs": [
    {
     "data": {
      "text/plain": [
       "100000"
      ]
     },
     "execution_count": 103,
     "metadata": {},
     "output_type": "execute_result"
    }
   ],
   "source": [
    "devrim.sallary"
   ]
  },
  {
   "cell_type": "code",
   "execution_count": 104,
   "metadata": {},
   "outputs": [
    {
     "data": {
      "text/plain": [
       "<bound method employee.information of <__main__.manager object at 0x7df41ab8d3d0>>"
      ]
     },
     "execution_count": 104,
     "metadata": {},
     "output_type": "execute_result"
    }
   ],
   "source": [
    "devrim.information"
   ]
  },
  {
   "cell_type": "code",
   "execution_count": 105,
   "metadata": {},
   "outputs": [
    {
     "name": "stdout",
     "output_type": "stream",
     "text": [
      "\n",
      "INFORMATION OF EMPLOYEE\n",
      "NAME: Devrim\n",
      "SURNAME: Tunçer\n",
      "SALLARY: 100000\n"
     ]
    }
   ],
   "source": [
    "devrim.information()"
   ]
  },
  {
   "cell_type": "code",
   "execution_count": 107,
   "metadata": {},
   "outputs": [],
   "source": [
    "class director(employee):\n",
    "    def sallary1(self,value):\n",
    "        self.sallary+=value\n",
    "        print(f\"New Sallary: {self.sallary}\")"
   ]
  },
  {
   "cell_type": "code",
   "execution_count": 108,
   "metadata": {},
   "outputs": [],
   "source": [
    "esma = director(\"Esma\",\"Tanşa\",100000)"
   ]
  },
  {
   "cell_type": "code",
   "execution_count": 109,
   "metadata": {},
   "outputs": [
    {
     "name": "stdout",
     "output_type": "stream",
     "text": [
      "New Sallary: 150000\n"
     ]
    }
   ],
   "source": [
    "esma.sallary1(50000)"
   ]
  },
  {
   "cell_type": "markdown",
   "metadata": {},
   "source": [
    "## OVERRIDING\n",
    "\n",
    "Miras aldığımız bir methodu aynı isimle tekrar tanımlarsak artık methodu çağırdığımızda miras aldığımız değil kendi methodumuz çalışacaktır."
   ]
  },
  {
   "cell_type": "code",
   "execution_count": 150,
   "metadata": {},
   "outputs": [],
   "source": [
    "class class1():\n",
    "\n",
    "    def __init__(self):\n",
    "        print(\"class1 called\")"
   ]
  },
  {
   "cell_type": "code",
   "execution_count": 151,
   "metadata": {},
   "outputs": [],
   "source": [
    "class class2(class1):\n",
    "    pass"
   ]
  },
  {
   "cell_type": "code",
   "execution_count": 152,
   "metadata": {},
   "outputs": [
    {
     "name": "stdout",
     "output_type": "stream",
     "text": [
      "class1 called\n"
     ]
    }
   ],
   "source": [
    "devrim = class2()"
   ]
  },
  {
   "cell_type": "code",
   "execution_count": 153,
   "metadata": {},
   "outputs": [],
   "source": [
    "class class2(class1):\n",
    "    def __init__(self):\n",
    "        print(\"class2 called\") "
   ]
  },
  {
   "cell_type": "code",
   "execution_count": 154,
   "metadata": {},
   "outputs": [
    {
     "name": "stdout",
     "output_type": "stream",
     "text": [
      "class2 called\n"
     ]
    }
   ],
   "source": [
    "devrim = class2()"
   ]
  },
  {
   "cell_type": "markdown",
   "metadata": {},
   "source": [
    "## Super Fonksiyonu\n",
    "\n",
    "Super fonksiyonu bizim miras aldığımız fonksiyona ekstra şeyler eklememizi sağlar.\n",
    "#super(classAdı,self).\\_\\_init\\_\\_(isim,tür,yaşı)\n",
    "#çok fazla üst sınıf varsa"
   ]
  },
  {
   "cell_type": "code",
   "execution_count": 155,
   "metadata": {},
   "outputs": [],
   "source": [
    "class employee():\n",
    "\n",
    "    def __init__(self,name,surname,sallary):\n",
    "        self.name=name\n",
    "        self.surname=surname\n",
    "        self.sallary=sallary\n",
    "        print(\"Employee called\")\n",
    "    \n",
    "    def information(self):\n",
    "        print(f\"\"\"\n",
    "INFORMATION OF EMPLOYEE\n",
    "NAME: {self.name}\n",
    "SURNAME: {self.surname}\n",
    "SALLARY: {self.sallary}\"\"\")"
   ]
  },
  {
   "cell_type": "code",
   "execution_count": 158,
   "metadata": {},
   "outputs": [],
   "source": [
    "class director(employee):\n",
    "    def __init__(self,name,surname,sallary,employees):\n",
    "        super().__init__(name,surname,sallary)\n",
    "        self.employees = employees\n",
    "        print(\"director called\")"
   ]
  },
  {
   "cell_type": "code",
   "execution_count": 159,
   "metadata": {},
   "outputs": [
    {
     "name": "stdout",
     "output_type": "stream",
     "text": [
      "Employee called\n",
      "director called\n"
     ]
    }
   ],
   "source": [
    "devrim = director(\"Devrim\",\"Tunçer\",250000,25)"
   ]
  },
  {
   "cell_type": "code",
   "execution_count": 160,
   "metadata": {},
   "outputs": [],
   "source": [
    "del devrim"
   ]
  },
  {
   "cell_type": "code",
   "execution_count": 161,
   "metadata": {},
   "outputs": [
    {
     "ename": "NameError",
     "evalue": "name 'devrim' is not defined",
     "output_type": "error",
     "traceback": [
      "\u001b[0;31m---------------------------------------------------------------------------\u001b[0m",
      "\u001b[0;31mNameError\u001b[0m                                 Traceback (most recent call last)",
      "Cell \u001b[0;32mIn[161], line 1\u001b[0m\n\u001b[0;32m----> 1\u001b[0m \u001b[43mdevrim\u001b[49m\n",
      "\u001b[0;31mNameError\u001b[0m: name 'devrim' is not defined"
     ]
    }
   ],
   "source": [
    "devrim"
   ]
  },
  {
   "cell_type": "code",
   "execution_count": 165,
   "metadata": {},
   "outputs": [
    {
     "name": "stdout",
     "output_type": "stream",
     "text": [
      "<__main__.vegetables object at 0x7df41ab98d40>\n"
     ]
    }
   ],
   "source": [
    "# str methodu normalde print ifadesi ekrana şöyle bir yazı yazdırıyor\n",
    "# Parametrelere default değerlerde atayabiliriz\n",
    "class vegetables():\n",
    "\n",
    "    def __init__(self,name = \"NO INFO\",color = \"GREEN\",price = 25,mass = \"0.250\"):\n",
    "\n",
    "        self.name=name\n",
    "\n",
    "        self.color=color\n",
    "\n",
    "        self.price=price\n",
    "\n",
    "        self.mass=mass\n",
    "\n",
    "maydonoz = vegetables(\"Maydonoz\",price=40)\n",
    "print(maydonoz)"
   ]
  },
  {
   "cell_type": "code",
   "execution_count": 166,
   "metadata": {},
   "outputs": [
    {
     "name": "stdout",
     "output_type": "stream",
     "text": [
      "NAME:Maydonoz, COLOR: GREEN, PRİCE: 40, MASS: 0.250\n"
     ]
    }
   ],
   "source": [
    "class vegetables():\n",
    "\n",
    "    def __init__(self,name = \"NO INFO\",color = \"GREEN\",price = 25,mass = \"0.250\"):\n",
    "\n",
    "        self.name=name\n",
    "\n",
    "        self.color=color\n",
    "\n",
    "        self.price=price\n",
    "\n",
    "        self.mass=mass\n",
    "\n",
    "\n",
    "    def __str__(self):\n",
    "        return   f\"NAME:{self.name}, COLOR: {self.color}, PRİCE: {self.price}, MASS: {self.mass}\"\n",
    "\n",
    "maydonoz = vegetables(\"Maydonoz\",price=40)\n",
    "print(maydonoz)"
   ]
  },
  {
   "cell_type": "code",
   "execution_count": 167,
   "metadata": {},
   "outputs": [
    {
     "ename": "TypeError",
     "evalue": "object of type 'vegetables' has no len()",
     "output_type": "error",
     "traceback": [
      "\u001b[0;31m---------------------------------------------------------------------------\u001b[0m",
      "\u001b[0;31mTypeError\u001b[0m                                 Traceback (most recent call last)",
      "Cell \u001b[0;32mIn[167], line 2\u001b[0m\n\u001b[1;32m      1\u001b[0m \u001b[38;5;66;03m# len methodu normalde biz tanımlamazsak tanımlanan bir method değil.\u001b[39;00m\n\u001b[0;32m----> 2\u001b[0m \u001b[38;5;28;43mlen\u001b[39;49m\u001b[43m(\u001b[49m\u001b[43mmaydonoz\u001b[49m\u001b[43m)\u001b[49m\n",
      "\u001b[0;31mTypeError\u001b[0m: object of type 'vegetables' has no len()"
     ]
    }
   ],
   "source": [
    "# len methodu normalde biz tanımlamazsak tanımlanan bir method değil.\n",
    "len(maydonoz)"
   ]
  },
  {
   "cell_type": "code",
   "execution_count": 168,
   "metadata": {},
   "outputs": [
    {
     "name": "stdout",
     "output_type": "stream",
     "text": [
      "40\n"
     ]
    }
   ],
   "source": [
    "class vegetables():\n",
    "\n",
    "    def __init__(self,name = \"NO INFO\",color = \"GREEN\",price = 25,mass = \"0.250\"):\n",
    "\n",
    "        self.name=name\n",
    "\n",
    "        self.color=color\n",
    "\n",
    "        self.price=price\n",
    "\n",
    "        self.mass=mass\n",
    "\n",
    "\n",
    "    def __str__(self):\n",
    "        return   f\"NAME:{self.name}, COLOR: {self.color}, PRİCE: {self.price}, MASS: {self.mass}\"\n",
    "\n",
    "    def __len__(self):\n",
    "        return self.price\n",
    "maydonoz = vegetables(\"Maydonoz\",price=40)\n",
    "print(len(maydonoz))"
   ]
  },
  {
   "cell_type": "code",
   "execution_count": 170,
   "metadata": {},
   "outputs": [
    {
     "name": "stdout",
     "output_type": "stream",
     "text": [
      "Succesfully deleted\n"
     ]
    }
   ],
   "source": [
    "# del methodu objeleri silmemize yarar kendimiz tanımlayarak ekstra özellikler ekleyebiliriz\n",
    "class vegetables():\n",
    "\n",
    "    def __init__(self,name = \"NO INFO\",color = \"GREEN\",price = 25,mass = \"0.250\"):\n",
    "\n",
    "        self.name=name\n",
    "\n",
    "        self.color=color\n",
    "\n",
    "        self.price=price\n",
    "\n",
    "        self.mass=mass\n",
    "\n",
    "\n",
    "    def __str__(self):\n",
    "        return   f\"NAME:{self.name}, COLOR: {self.color}, PRİCE: {self.price}, MASS: {self.mass}\"\n",
    "\n",
    "    def __len__(self):\n",
    "        return self.price\n",
    "    \n",
    "    def __del__(self):\n",
    "        print(\"Succesfully deleted\")\n",
    "maydonoz = vegetables(\"Maydonoz\",price=40)\n",
    "del maydonoz"
   ]
  },
  {
   "cell_type": "code",
   "execution_count": 176,
   "metadata": {},
   "outputs": [],
   "source": [
    "class fitness():\n",
    "    def __init__(self,name,surname,phonenumber,id,membershiptype,date):\n",
    "        print(\"Member registered successfully.....\")\n",
    "        self.name = name\n",
    "        self.surname = surname\n",
    "        self.phonenumber = phonenumber\n",
    "        self.id = id\n",
    "        self.membershiptype = membershiptype\n",
    "        self.date = date \n",
    "        membershiptypedict={\"bronze\":900,\"silver\":1300,\"gold\":2000,\"platinium\":3000}\n",
    "        if self.membershiptype in membershiptypedict.keys():\n",
    "            self.price = membershiptypedict[self.membershiptype]\n",
    "    def infoprice(self):\n",
    "        return self.price"
   ]
  },
  {
   "cell_type": "code",
   "execution_count": 177,
   "metadata": {},
   "outputs": [
    {
     "name": "stdout",
     "output_type": "stream",
     "text": [
      "Member registered successfully.....\n"
     ]
    }
   ],
   "source": [
    "devrim =fitness(\"Devrim\",\"Tunçer\",\"335135135\",351353315135,\"bronze\",\"29.09.2024\")"
   ]
  },
  {
   "cell_type": "code",
   "execution_count": 178,
   "metadata": {},
   "outputs": [
    {
     "data": {
      "text/plain": [
       "900"
      ]
     },
     "execution_count": 178,
     "metadata": {},
     "output_type": "execute_result"
    }
   ],
   "source": [
    "devrim.price"
   ]
  },
  {
   "cell_type": "code",
   "execution_count": 179,
   "metadata": {},
   "outputs": [
    {
     "data": {
      "text/plain": [
       "900"
      ]
     },
     "execution_count": 179,
     "metadata": {},
     "output_type": "execute_result"
    }
   ],
   "source": [
    "devrim.infoprice()"
   ]
  }
 ],
 "metadata": {
  "kernelspec": {
   "display_name": "Python 3",
   "language": "python",
   "name": "python3"
  },
  "language_info": {
   "codemirror_mode": {
    "name": "ipython",
    "version": 3
   },
   "file_extension": ".py",
   "mimetype": "text/x-python",
   "name": "python",
   "nbconvert_exporter": "python",
   "pygments_lexer": "ipython3",
   "version": "3.12.7"
  }
 },
 "nbformat": 4,
 "nbformat_minor": 2
}

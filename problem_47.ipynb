{
 "cells": [
  {
   "cell_type": "markdown",
   "metadata": {},
   "source": [
    "# PROBLEM 47\n",
    "Problem 47 - Distinct Prime Factors\n",
    "\n",
    "Problem: The first number to have two distinct prime factors is 14 (2 × 7). The first number to have three distinct prime factors is 644 (2 × 7 × 23). What is the first of four consecutive integers to have four distinct prime factors each?"
   ]
  },
  {
   "cell_type": "code",
   "execution_count": 26,
   "metadata": {},
   "outputs": [
    {
     "name": "stdout",
     "output_type": "stream",
     "text": [
      "134043\n"
     ]
    }
   ],
   "source": [
    "def prime(b):\n",
    "    if b<2:\n",
    "        return False\n",
    "    elif b==2:\n",
    "        return True\n",
    "    else:\n",
    "        for i in range(2,int(b**0.5)+1):\n",
    "            if b%i==0:\n",
    "                return False            \n",
    "    return True\n",
    "\n",
    "\n",
    "prime_list=list()\n",
    "for i in range(2,100000):\n",
    "    if prime(i):\n",
    "        prime_list.append(i)\n",
    "    \n",
    "\n",
    "def divisior_sum(b):\n",
    "    divisor_sum_1=0\n",
    "    for i in prime_list:\n",
    "        if b<i:\n",
    "            break\n",
    "        if b%i==0:\n",
    "            divisor_sum_1+=1\n",
    "        if divisor_sum_1>4:\n",
    "            return False\n",
    "    if divisor_sum_1==4:\n",
    "        return True\n",
    "    return False\n",
    "\n",
    "\n",
    "\n",
    "number=2*3*5*7\n",
    "while True:\n",
    "    if divisior_sum(number):\n",
    "        if divisior_sum(number+1):\n",
    "            if divisior_sum(number+2):\n",
    "                if divisior_sum(number+3):\n",
    "                    print(number)\n",
    "                    break\n",
    "    number+=1"
   ]
  }
 ],
 "metadata": {
  "kernelspec": {
   "display_name": "Python 3",
   "language": "python",
   "name": "python3"
  },
  "language_info": {
   "codemirror_mode": {
    "name": "ipython",
    "version": 3
   },
   "file_extension": ".py",
   "mimetype": "text/x-python",
   "name": "python",
   "nbconvert_exporter": "python",
   "pygments_lexer": "ipython3",
   "version": "3.12.7"
  }
 },
 "nbformat": 4,
 "nbformat_minor": 2
}

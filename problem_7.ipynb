{
 "cells": [
  {
   "cell_type": "markdown",
   "metadata": {},
   "source": [
    "# PROBLEM 7 \n",
    "By listing the first six prime numbers: 2, 3, 5, 7, 11, and 13, we can see that the 6th prime is 13.\n",
    "\n",
    "What is the 10001st prime number?"
   ]
  },
  {
   "cell_type": "code",
   "execution_count": 2,
   "metadata": {},
   "outputs": [
    {
     "data": {
      "text/plain": [
       "7927"
      ]
     },
     "execution_count": 2,
     "metadata": {},
     "output_type": "execute_result"
    }
   ],
   "source": [
    "def problem_7():\n",
    "    prime_number_list=list()\n",
    "    b=2 # First value\n",
    "    while True:\n",
    "        if len(prime_number_list)==1001:\n",
    "            return prime_number_list[-1]\n",
    "        check=0\n",
    "        for i in range(2,b+1):\n",
    "            if b%i==0:\n",
    "                check+=i\n",
    "        if check==b:\n",
    "            prime_number_list.append(b)\n",
    "        b+=1\n",
    "problem_7()"
   ]
  },
  {
   "cell_type": "code",
   "execution_count": 5,
   "metadata": {},
   "outputs": [
    {
     "name": "stdout",
     "output_type": "stream",
     "text": [
      "7927\n"
     ]
    }
   ],
   "source": [
    "prime_number_list=list()\n",
    "b=2 # First value\n",
    "while True:\n",
    "    if len(prime_number_list)==1001:\n",
    "        print(prime_number_list[-1])\n",
    "        break\n",
    "    check=0\n",
    "    for i in range(2,b+1):\n",
    "        if b%i==0:\n",
    "            check+=i\n",
    "    if check==b:\n",
    "        prime_number_list.append(b)\n",
    "    b+=1"
   ]
  }
 ],
 "metadata": {
  "kernelspec": {
   "display_name": "Python 3",
   "language": "python",
   "name": "python3"
  },
  "language_info": {
   "codemirror_mode": {
    "name": "ipython",
    "version": 3
   },
   "file_extension": ".py",
   "mimetype": "text/x-python",
   "name": "python",
   "nbconvert_exporter": "python",
   "pygments_lexer": "ipython3",
   "version": "3.12.7"
  }
 },
 "nbformat": 4,
 "nbformat_minor": 2
}

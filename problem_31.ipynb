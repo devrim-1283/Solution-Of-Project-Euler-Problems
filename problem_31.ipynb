{
 "cells": [
  {
   "cell_type": "markdown",
   "metadata": {},
   "source": [
    "# PROBLEM 31\n",
    "In the United Kingdom, the currency is made up of pound (£) and pence (p). There are eight coins in general circulation:\n",
    "1p, 2p, 5p, 10p, 20p, 50p, £1 (100p), and £2 (200p).\n",
    "\n",
    "How many different ways can £2 (200p) be made using any number of these coins?"
   ]
  },
  {
   "cell_type": "code",
   "execution_count": 9,
   "metadata": {},
   "outputs": [
    {
     "name": "stdout",
     "output_type": "stream",
     "text": [
      "73682\n"
     ]
    }
   ],
   "source": [
    "def comb(a, coins):\n",
    "    dp = [0] * (a + 1)\n",
    "    dp[0] = 1 \n",
    "\n",
    "    for i in coins: \n",
    "        for amount in range(i, a + 1): \n",
    "            dp[amount] += dp[amount - i]\n",
    "\n",
    "    return dp[a]  \n",
    "\n",
    "coins = [1, 2, 5, 10, 20, 50, 100, 200]\n",
    "print(comb(200,coins))\n"
   ]
  }
 ],
 "metadata": {
  "kernelspec": {
   "display_name": "Python 3",
   "language": "python",
   "name": "python3"
  },
  "language_info": {
   "codemirror_mode": {
    "name": "ipython",
    "version": 3
   },
   "file_extension": ".py",
   "mimetype": "text/x-python",
   "name": "python",
   "nbconvert_exporter": "python",
   "pygments_lexer": "ipython3",
   "version": "3.12.7"
  }
 },
 "nbformat": 4,
 "nbformat_minor": 2
}

{
 "cells": [
  {
   "cell_type": "markdown",
   "metadata": {},
   "source": [
    "# PROBLEM 36\n",
    "The decimal number, 585 = 1001001001₂ (binary), is palindromic in both bases.\n",
    "Find the sum of all numbers, less than one million, which are palindromic in base 10 and base 2.\n",
    "(Please note that the palindromic number, in either base, may not include leading zeros.)"
   ]
  },
  {
   "cell_type": "code",
   "execution_count": 7,
   "metadata": {},
   "outputs": [
    {
     "name": "stdout",
     "output_type": "stream",
     "text": [
      "872187\n"
     ]
    }
   ],
   "source": [
    "def binary(a):\n",
    "    if type(a)==int:\n",
    "        binary_a=bin(a)\n",
    "        return binary_a[2:]\n",
    "    \n",
    "\n",
    "def polindromic(value):\n",
    "    value=str(value)\n",
    "    reverse_value=value[::-1]\n",
    "    if value==reverse_value:\n",
    "        return True\n",
    "    else:\n",
    "        return False\n",
    "\n",
    "polindromic_sum=0\n",
    "for i in range(1,1000000):\n",
    "    if polindromic(i) and polindromic(binary(i)):\n",
    "        polindromic_sum+=i\n",
    "print(polindromic_sum)\n"
   ]
  }
 ],
 "metadata": {
  "kernelspec": {
   "display_name": "Python 3",
   "language": "python",
   "name": "python3"
  },
  "language_info": {
   "codemirror_mode": {
    "name": "ipython",
    "version": 3
   },
   "file_extension": ".py",
   "mimetype": "text/x-python",
   "name": "python",
   "nbconvert_exporter": "python",
   "pygments_lexer": "ipython3",
   "version": "3.12.7"
  }
 },
 "nbformat": 4,
 "nbformat_minor": 2
}
